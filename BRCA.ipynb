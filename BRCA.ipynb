{
 "cells": [
  {
   "cell_type": "code",
   "execution_count": 1,
   "id": "5e3b2c59-7db0-449f-954f-0db3ed94ebb9",
   "metadata": {},
   "outputs": [],
   "source": [
    "import pandas as pd\n",
    "import matplotlib.pyplot as plt\n",
    "import seaborn as sns \n",
    "import numpy  as np\n",
    "import warnings\n",
    "warnings.filterwarnings(\"ignore\")"
   ]
  },
  {
   "cell_type": "markdown",
   "id": "2a99e9b7-76b6-4bf2-b114-dfef9523a998",
   "metadata": {
    "tags": []
   },
   "source": [
    "# PREPROCESSING"
   ]
  },
  {
   "cell_type": "code",
   "execution_count": 2,
   "id": "85c3ec5c-404b-497a-9df4-87747b91085f",
   "metadata": {},
   "outputs": [
    {
     "data": {
      "text/html": [
       "<div>\n",
       "<style scoped>\n",
       "    .dataframe tbody tr th:only-of-type {\n",
       "        vertical-align: middle;\n",
       "    }\n",
       "\n",
       "    .dataframe tbody tr th {\n",
       "        vertical-align: top;\n",
       "    }\n",
       "\n",
       "    .dataframe thead th {\n",
       "        text-align: right;\n",
       "    }\n",
       "</style>\n",
       "<table border=\"1\" class=\"dataframe\">\n",
       "  <thead>\n",
       "    <tr style=\"text-align: right;\">\n",
       "      <th></th>\n",
       "      <th>Patient_ID</th>\n",
       "      <th>Age</th>\n",
       "      <th>Gender</th>\n",
       "      <th>Protein1</th>\n",
       "      <th>Protein2</th>\n",
       "      <th>Protein3</th>\n",
       "      <th>Protein4</th>\n",
       "      <th>Tumour_Stage</th>\n",
       "      <th>Histology</th>\n",
       "      <th>ER status</th>\n",
       "      <th>PR status</th>\n",
       "      <th>HER2 status</th>\n",
       "      <th>Surgery_type</th>\n",
       "      <th>Date_of_Surgery</th>\n",
       "      <th>Date_of_Last_Visit</th>\n",
       "      <th>Patient_Status</th>\n",
       "    </tr>\n",
       "  </thead>\n",
       "  <tbody>\n",
       "    <tr>\n",
       "      <th>0</th>\n",
       "      <td>TCGA-D8-A1XD</td>\n",
       "      <td>36.0</td>\n",
       "      <td>FEMALE</td>\n",
       "      <td>0.080353</td>\n",
       "      <td>0.42638</td>\n",
       "      <td>0.54715</td>\n",
       "      <td>0.273680</td>\n",
       "      <td>III</td>\n",
       "      <td>Infiltrating Ductal Carcinoma</td>\n",
       "      <td>Positive</td>\n",
       "      <td>Positive</td>\n",
       "      <td>Negative</td>\n",
       "      <td>Modified Radical Mastectomy</td>\n",
       "      <td>15-Jan-17</td>\n",
       "      <td>19-Jun-17</td>\n",
       "      <td>Alive</td>\n",
       "    </tr>\n",
       "    <tr>\n",
       "      <th>1</th>\n",
       "      <td>TCGA-EW-A1OX</td>\n",
       "      <td>43.0</td>\n",
       "      <td>FEMALE</td>\n",
       "      <td>-0.420320</td>\n",
       "      <td>0.57807</td>\n",
       "      <td>0.61447</td>\n",
       "      <td>-0.031505</td>\n",
       "      <td>II</td>\n",
       "      <td>Mucinous Carcinoma</td>\n",
       "      <td>Positive</td>\n",
       "      <td>Positive</td>\n",
       "      <td>Negative</td>\n",
       "      <td>Lumpectomy</td>\n",
       "      <td>26-Apr-17</td>\n",
       "      <td>09-Nov-18</td>\n",
       "      <td>Dead</td>\n",
       "    </tr>\n",
       "    <tr>\n",
       "      <th>2</th>\n",
       "      <td>TCGA-A8-A079</td>\n",
       "      <td>69.0</td>\n",
       "      <td>FEMALE</td>\n",
       "      <td>0.213980</td>\n",
       "      <td>1.31140</td>\n",
       "      <td>-0.32747</td>\n",
       "      <td>-0.234260</td>\n",
       "      <td>III</td>\n",
       "      <td>Infiltrating Ductal Carcinoma</td>\n",
       "      <td>Positive</td>\n",
       "      <td>Positive</td>\n",
       "      <td>Negative</td>\n",
       "      <td>Other</td>\n",
       "      <td>08-Sep-17</td>\n",
       "      <td>09-Jun-18</td>\n",
       "      <td>Alive</td>\n",
       "    </tr>\n",
       "    <tr>\n",
       "      <th>3</th>\n",
       "      <td>TCGA-D8-A1XR</td>\n",
       "      <td>56.0</td>\n",
       "      <td>FEMALE</td>\n",
       "      <td>0.345090</td>\n",
       "      <td>-0.21147</td>\n",
       "      <td>-0.19304</td>\n",
       "      <td>0.124270</td>\n",
       "      <td>II</td>\n",
       "      <td>Infiltrating Ductal Carcinoma</td>\n",
       "      <td>Positive</td>\n",
       "      <td>Positive</td>\n",
       "      <td>Negative</td>\n",
       "      <td>Modified Radical Mastectomy</td>\n",
       "      <td>25-Jan-17</td>\n",
       "      <td>12-Jul-17</td>\n",
       "      <td>Alive</td>\n",
       "    </tr>\n",
       "    <tr>\n",
       "      <th>4</th>\n",
       "      <td>TCGA-BH-A0BF</td>\n",
       "      <td>56.0</td>\n",
       "      <td>FEMALE</td>\n",
       "      <td>0.221550</td>\n",
       "      <td>1.90680</td>\n",
       "      <td>0.52045</td>\n",
       "      <td>-0.311990</td>\n",
       "      <td>II</td>\n",
       "      <td>Infiltrating Ductal Carcinoma</td>\n",
       "      <td>Positive</td>\n",
       "      <td>Positive</td>\n",
       "      <td>Negative</td>\n",
       "      <td>Other</td>\n",
       "      <td>06-May-17</td>\n",
       "      <td>27-Jun-19</td>\n",
       "      <td>Dead</td>\n",
       "    </tr>\n",
       "    <tr>\n",
       "      <th>...</th>\n",
       "      <td>...</td>\n",
       "      <td>...</td>\n",
       "      <td>...</td>\n",
       "      <td>...</td>\n",
       "      <td>...</td>\n",
       "      <td>...</td>\n",
       "      <td>...</td>\n",
       "      <td>...</td>\n",
       "      <td>...</td>\n",
       "      <td>...</td>\n",
       "      <td>...</td>\n",
       "      <td>...</td>\n",
       "      <td>...</td>\n",
       "      <td>...</td>\n",
       "      <td>...</td>\n",
       "      <td>...</td>\n",
       "    </tr>\n",
       "    <tr>\n",
       "      <th>336</th>\n",
       "      <td>NaN</td>\n",
       "      <td>NaN</td>\n",
       "      <td>NaN</td>\n",
       "      <td>NaN</td>\n",
       "      <td>NaN</td>\n",
       "      <td>NaN</td>\n",
       "      <td>NaN</td>\n",
       "      <td>NaN</td>\n",
       "      <td>NaN</td>\n",
       "      <td>NaN</td>\n",
       "      <td>NaN</td>\n",
       "      <td>NaN</td>\n",
       "      <td>NaN</td>\n",
       "      <td>NaN</td>\n",
       "      <td>NaN</td>\n",
       "      <td>NaN</td>\n",
       "    </tr>\n",
       "    <tr>\n",
       "      <th>337</th>\n",
       "      <td>NaN</td>\n",
       "      <td>NaN</td>\n",
       "      <td>NaN</td>\n",
       "      <td>NaN</td>\n",
       "      <td>NaN</td>\n",
       "      <td>NaN</td>\n",
       "      <td>NaN</td>\n",
       "      <td>NaN</td>\n",
       "      <td>NaN</td>\n",
       "      <td>NaN</td>\n",
       "      <td>NaN</td>\n",
       "      <td>NaN</td>\n",
       "      <td>NaN</td>\n",
       "      <td>NaN</td>\n",
       "      <td>NaN</td>\n",
       "      <td>NaN</td>\n",
       "    </tr>\n",
       "    <tr>\n",
       "      <th>338</th>\n",
       "      <td>NaN</td>\n",
       "      <td>NaN</td>\n",
       "      <td>NaN</td>\n",
       "      <td>NaN</td>\n",
       "      <td>NaN</td>\n",
       "      <td>NaN</td>\n",
       "      <td>NaN</td>\n",
       "      <td>NaN</td>\n",
       "      <td>NaN</td>\n",
       "      <td>NaN</td>\n",
       "      <td>NaN</td>\n",
       "      <td>NaN</td>\n",
       "      <td>NaN</td>\n",
       "      <td>NaN</td>\n",
       "      <td>NaN</td>\n",
       "      <td>NaN</td>\n",
       "    </tr>\n",
       "    <tr>\n",
       "      <th>339</th>\n",
       "      <td>NaN</td>\n",
       "      <td>NaN</td>\n",
       "      <td>NaN</td>\n",
       "      <td>NaN</td>\n",
       "      <td>NaN</td>\n",
       "      <td>NaN</td>\n",
       "      <td>NaN</td>\n",
       "      <td>NaN</td>\n",
       "      <td>NaN</td>\n",
       "      <td>NaN</td>\n",
       "      <td>NaN</td>\n",
       "      <td>NaN</td>\n",
       "      <td>NaN</td>\n",
       "      <td>NaN</td>\n",
       "      <td>NaN</td>\n",
       "      <td>NaN</td>\n",
       "    </tr>\n",
       "    <tr>\n",
       "      <th>340</th>\n",
       "      <td>NaN</td>\n",
       "      <td>NaN</td>\n",
       "      <td>NaN</td>\n",
       "      <td>NaN</td>\n",
       "      <td>NaN</td>\n",
       "      <td>NaN</td>\n",
       "      <td>NaN</td>\n",
       "      <td>NaN</td>\n",
       "      <td>NaN</td>\n",
       "      <td>NaN</td>\n",
       "      <td>NaN</td>\n",
       "      <td>NaN</td>\n",
       "      <td>NaN</td>\n",
       "      <td>NaN</td>\n",
       "      <td>NaN</td>\n",
       "      <td>NaN</td>\n",
       "    </tr>\n",
       "  </tbody>\n",
       "</table>\n",
       "<p>341 rows × 16 columns</p>\n",
       "</div>"
      ],
      "text/plain": [
       "       Patient_ID   Age  Gender  Protein1  Protein2  Protein3  Protein4  \\\n",
       "0    TCGA-D8-A1XD  36.0  FEMALE  0.080353   0.42638   0.54715  0.273680   \n",
       "1    TCGA-EW-A1OX  43.0  FEMALE -0.420320   0.57807   0.61447 -0.031505   \n",
       "2    TCGA-A8-A079  69.0  FEMALE  0.213980   1.31140  -0.32747 -0.234260   \n",
       "3    TCGA-D8-A1XR  56.0  FEMALE  0.345090  -0.21147  -0.19304  0.124270   \n",
       "4    TCGA-BH-A0BF  56.0  FEMALE  0.221550   1.90680   0.52045 -0.311990   \n",
       "..            ...   ...     ...       ...       ...       ...       ...   \n",
       "336           NaN   NaN     NaN       NaN       NaN       NaN       NaN   \n",
       "337           NaN   NaN     NaN       NaN       NaN       NaN       NaN   \n",
       "338           NaN   NaN     NaN       NaN       NaN       NaN       NaN   \n",
       "339           NaN   NaN     NaN       NaN       NaN       NaN       NaN   \n",
       "340           NaN   NaN     NaN       NaN       NaN       NaN       NaN   \n",
       "\n",
       "    Tumour_Stage                      Histology ER status PR status  \\\n",
       "0            III  Infiltrating Ductal Carcinoma  Positive  Positive   \n",
       "1             II             Mucinous Carcinoma  Positive  Positive   \n",
       "2            III  Infiltrating Ductal Carcinoma  Positive  Positive   \n",
       "3             II  Infiltrating Ductal Carcinoma  Positive  Positive   \n",
       "4             II  Infiltrating Ductal Carcinoma  Positive  Positive   \n",
       "..           ...                            ...       ...       ...   \n",
       "336          NaN                            NaN       NaN       NaN   \n",
       "337          NaN                            NaN       NaN       NaN   \n",
       "338          NaN                            NaN       NaN       NaN   \n",
       "339          NaN                            NaN       NaN       NaN   \n",
       "340          NaN                            NaN       NaN       NaN   \n",
       "\n",
       "    HER2 status                 Surgery_type Date_of_Surgery  \\\n",
       "0      Negative  Modified Radical Mastectomy       15-Jan-17   \n",
       "1      Negative                   Lumpectomy       26-Apr-17   \n",
       "2      Negative                        Other       08-Sep-17   \n",
       "3      Negative  Modified Radical Mastectomy       25-Jan-17   \n",
       "4      Negative                        Other       06-May-17   \n",
       "..          ...                          ...             ...   \n",
       "336         NaN                          NaN             NaN   \n",
       "337         NaN                          NaN             NaN   \n",
       "338         NaN                          NaN             NaN   \n",
       "339         NaN                          NaN             NaN   \n",
       "340         NaN                          NaN             NaN   \n",
       "\n",
       "    Date_of_Last_Visit Patient_Status  \n",
       "0            19-Jun-17          Alive  \n",
       "1            09-Nov-18           Dead  \n",
       "2            09-Jun-18          Alive  \n",
       "3            12-Jul-17          Alive  \n",
       "4            27-Jun-19           Dead  \n",
       "..                 ...            ...  \n",
       "336                NaN            NaN  \n",
       "337                NaN            NaN  \n",
       "338                NaN            NaN  \n",
       "339                NaN            NaN  \n",
       "340                NaN            NaN  \n",
       "\n",
       "[341 rows x 16 columns]"
      ]
     },
     "execution_count": 2,
     "metadata": {},
     "output_type": "execute_result"
    }
   ],
   "source": [
    "# Import csv file to process on the data\n",
    "data=pd.read_csv(r\"D:\\Morcos\\BRCA.csv.xls\")\n",
    "\n",
    "# Show Data\n",
    "data"
   ]
  },
  {
   "cell_type": "code",
   "execution_count": 3,
   "id": "fb26c53d-ad09-4ea3-8c15-88030eea4c47",
   "metadata": {},
   "outputs": [
    {
     "name": "stdout",
     "output_type": "stream",
     "text": [
      "<class 'pandas.core.frame.DataFrame'>\n",
      "RangeIndex: 341 entries, 0 to 340\n",
      "Data columns (total 16 columns):\n",
      " #   Column              Non-Null Count  Dtype  \n",
      "---  ------              --------------  -----  \n",
      " 0   Patient_ID          334 non-null    object \n",
      " 1   Age                 334 non-null    float64\n",
      " 2   Gender              334 non-null    object \n",
      " 3   Protein1            334 non-null    float64\n",
      " 4   Protein2            334 non-null    float64\n",
      " 5   Protein3            334 non-null    float64\n",
      " 6   Protein4            334 non-null    float64\n",
      " 7   Tumour_Stage        334 non-null    object \n",
      " 8   Histology           334 non-null    object \n",
      " 9   ER status           334 non-null    object \n",
      " 10  PR status           334 non-null    object \n",
      " 11  HER2 status         334 non-null    object \n",
      " 12  Surgery_type        334 non-null    object \n",
      " 13  Date_of_Surgery     334 non-null    object \n",
      " 14  Date_of_Last_Visit  317 non-null    object \n",
      " 15  Patient_Status      321 non-null    object \n",
      "dtypes: float64(5), object(11)\n",
      "memory usage: 42.8+ KB\n"
     ]
    }
   ],
   "source": [
    "# To get all information of dataframe we have, Like no. of coulmns, name of coulmns, non-null cells, and Data type of each column\n",
    "# Because we need to get a clear data without have Dtype: object we need clearly int. or float data because Machine Learn with numeric data only\n",
    "\n",
    "data.info()"
   ]
  },
  {
   "cell_type": "code",
   "execution_count": 4,
   "id": "cc2dcf31-ba22-49bf-9571-b35c33241aec",
   "metadata": {},
   "outputs": [
    {
     "data": {
      "text/plain": [
       "Patient_ID             7\n",
       "Age                    7\n",
       "Gender                 7\n",
       "Protein1               7\n",
       "Protein2               7\n",
       "Protein3               7\n",
       "Protein4               7\n",
       "Tumour_Stage           7\n",
       "Histology              7\n",
       "ER status              7\n",
       "PR status              7\n",
       "HER2 status            7\n",
       "Surgery_type           7\n",
       "Date_of_Surgery        7\n",
       "Date_of_Last_Visit    24\n",
       "Patient_Status        20\n",
       "dtype: int64"
      ]
     },
     "execution_count": 4,
     "metadata": {},
     "output_type": "execute_result"
    }
   ],
   "source": [
    "# To get number of Null(empty) cells\n",
    "\n",
    "data.isna().sum()"
   ]
  },
  {
   "cell_type": "markdown",
   "id": "affdc9b9-1ff8-4cdd-b47b-cabf877542c4",
   "metadata": {
    "tags": []
   },
   "source": [
    " "
   ]
  },
  {
   "cell_type": "markdown",
   "id": "5fa40d29-7af9-4b5e-96b6-7a75041dac14",
   "metadata": {
    "tags": []
   },
   "source": [
    "##### we will start Preprocess on all columns have object to change it to numeric"
   ]
  },
  {
   "cell_type": "code",
   "execution_count": 5,
   "id": "2e99b61c-f177-40fe-a9ec-6e777c12d2a9",
   "metadata": {},
   "outputs": [
    {
     "data": {
      "text/plain": [
       "array(['FEMALE', 'MALE', nan], dtype=object)"
      ]
     },
     "execution_count": 5,
     "metadata": {},
     "output_type": "execute_result"
    }
   ],
   "source": [
    "# We need to get all values in column Gender we know it have or carry Male Or Female but we have null cells so we will try to refill all empty cells with logic solutions\n",
    "# This data talk about Breast Cancer so we search and get...\n",
    "# ...Although it is rare, men can get breast cancer, but about 1 out of every 100 breast cancers diagnosed is found in a man so, we will assume all nulls cells is FEMALE\n",
    "\n",
    "data['Gender'].unique()"
   ]
  },
  {
   "cell_type": "code",
   "execution_count": 6,
   "id": "4d01d7b9-bace-45fa-a120-097d84cd0de3",
   "metadata": {},
   "outputs": [
    {
     "data": {
      "text/plain": [
       "FEMALE    330\n",
       "MALE        4\n",
       "Name: Gender, dtype: int64"
      ]
     },
     "execution_count": 6,
     "metadata": {},
     "output_type": "execute_result"
    }
   ],
   "source": [
    "# We get number of non-null cells and it will count how many in the one unique column it is FEMALE & MALE\n",
    "\n",
    "data['Gender'].value_counts()"
   ]
  },
  {
   "cell_type": "code",
   "execution_count": 7,
   "id": "62c85ce2-2892-4516-8dcf-81a051d98d2d",
   "metadata": {},
   "outputs": [],
   "source": [
    "# Depend on searches we assume the null cells is FEMALE\n",
    "\n",
    "data['Gender'].fillna('FEMALE', inplace = True)"
   ]
  },
  {
   "cell_type": "code",
   "execution_count": 8,
   "id": "69738638-093e-42d6-a8b3-ed9bcd4c08f0",
   "metadata": {},
   "outputs": [
    {
     "data": {
      "text/plain": [
       "FEMALE    337\n",
       "MALE        4\n",
       "Name: Gender, dtype: int64"
      ]
     },
     "execution_count": 8,
     "metadata": {},
     "output_type": "execute_result"
    }
   ],
   "source": [
    "# We re-check on fill data we entered it\n",
    "\n",
    "data['Gender'].value_counts()"
   ]
  },
  {
   "cell_type": "code",
   "execution_count": 9,
   "id": "3cfe74f1-e1d9-403f-9d51-647a9990efbd",
   "metadata": {},
   "outputs": [
    {
     "data": {
      "text/plain": [
       "array(['FEMALE', 'MALE'], dtype=object)"
      ]
     },
     "execution_count": 9,
     "metadata": {},
     "output_type": "execute_result"
    }
   ],
   "source": [
    "# We re-check on fill data we entered it, but ML know nymeric numbers so we will replace FEMALE and MALE with values\n",
    "\n",
    "data['Gender'].unique()"
   ]
  },
  {
   "cell_type": "code",
   "execution_count": 10,
   "id": "8edf1934-a907-4dac-8d04-3ac005f9aa9c",
   "metadata": {},
   "outputs": [],
   "source": [
    "# We replace Female = 1 and Male = 2 to ML model\n",
    "\n",
    "data['Gender'].replace({'FEMALE':1,'MALE':2},inplace = True)"
   ]
  },
  {
   "cell_type": "code",
   "execution_count": 11,
   "id": "69ab9f62-683a-4605-b8b9-0651eb7d458f",
   "metadata": {},
   "outputs": [
    {
     "data": {
      "text/plain": [
       "array([1, 2], dtype=int64)"
      ]
     },
     "execution_count": 11,
     "metadata": {},
     "output_type": "execute_result"
    }
   ],
   "source": [
    "# e re-check on fill data we entered it changed or not\n",
    "\n",
    "data['Gender'].unique()"
   ]
  },
  {
   "cell_type": "code",
   "execution_count": 12,
   "id": "db1dea81-d8b6-431e-9e0f-fc94bba48831",
   "metadata": {},
   "outputs": [
    {
     "data": {
      "text/plain": [
       "Patient_ID             7\n",
       "Age                    7\n",
       "Gender                 0\n",
       "Protein1               7\n",
       "Protein2               7\n",
       "Protein3               7\n",
       "Protein4               7\n",
       "Tumour_Stage           7\n",
       "Histology              7\n",
       "ER status              7\n",
       "PR status              7\n",
       "HER2 status            7\n",
       "Surgery_type           7\n",
       "Date_of_Surgery        7\n",
       "Date_of_Last_Visit    24\n",
       "Patient_Status        20\n",
       "dtype: int64"
      ]
     },
     "execution_count": 12,
     "metadata": {},
     "output_type": "execute_result"
    }
   ],
   "source": [
    "# we will check it changed in main data or not\n",
    "\n",
    "data.isna().sum()"
   ]
  },
  {
   "cell_type": "markdown",
   "id": "1509bd43-c2ac-412e-97bb-a0c885a88dc8",
   "metadata": {},
   "source": [
    "So, we solve one column(Gender) we will resolve all empty cells and change it to numeric values"
   ]
  },
  {
   "cell_type": "markdown",
   "id": "f6b64804-9731-4b98-bbee-955064f41a73",
   "metadata": {},
   "source": [
    " "
   ]
  },
  {
   "cell_type": "code",
   "execution_count": 13,
   "id": "8b2d1705-999b-438d-b951-ace754b4ac71",
   "metadata": {},
   "outputs": [
    {
     "data": {
      "text/plain": [
       "array([36., 43., 69., 56., 84., 53., 50., 77., 40., 71., 72., 75., 52.,\n",
       "       41., 37., 59., 62., 74., 87., 45., 55., 79., 47., 61., 68., 49.,\n",
       "       48., 46., 81., 89., 44., 78., 85., 60., 57., 54., 76., 58., 67.,\n",
       "       63., 82., 65., 73., 51., 83., 80., 39., 66., 42., 38., 64., 29.,\n",
       "       32., 70., 90., 35., 88., nan])"
      ]
     },
     "execution_count": 13,
     "metadata": {},
     "output_type": "execute_result"
    }
   ],
   "source": [
    "# we need to get all values on column Age to start procees on it\n",
    "\n",
    "data['Age'].unique()"
   ]
  },
  {
   "cell_type": "code",
   "execution_count": 14,
   "id": "37f6fd2f-fa1a-4273-83f4-95719a62c6a2",
   "metadata": {},
   "outputs": [
    {
     "data": {
      "text/plain": [
       "59.0    15\n",
       "50.0    14\n",
       "63.0    14\n",
       "54.0    13\n",
       "56.0    13\n",
       "46.0    12\n",
       "62.0    11\n",
       "53.0    10\n",
       "68.0    10\n",
       "60.0     9\n",
       "49.0     9\n",
       "47.0     9\n",
       "45.0     9\n",
       "51.0     9\n",
       "52.0     8\n",
       "61.0     8\n",
       "77.0     8\n",
       "66.0     8\n",
       "71.0     7\n",
       "48.0     7\n",
       "41.0     6\n",
       "74.0     6\n",
       "58.0     6\n",
       "64.0     6\n",
       "65.0     6\n",
       "79.0     6\n",
       "40.0     6\n",
       "57.0     6\n",
       "44.0     5\n",
       "76.0     5\n",
       "42.0     5\n",
       "80.0     4\n",
       "78.0     4\n",
       "85.0     4\n",
       "84.0     4\n",
       "69.0     4\n",
       "55.0     4\n",
       "36.0     3\n",
       "39.0     3\n",
       "38.0     3\n",
       "73.0     3\n",
       "88.0     3\n",
       "67.0     3\n",
       "43.0     3\n",
       "75.0     3\n",
       "72.0     3\n",
       "82.0     2\n",
       "83.0     2\n",
       "87.0     2\n",
       "37.0     2\n",
       "29.0     2\n",
       "70.0     2\n",
       "89.0     1\n",
       "32.0     1\n",
       "90.0     1\n",
       "35.0     1\n",
       "81.0     1\n",
       "Name: Age, dtype: int64"
      ]
     },
     "execution_count": 14,
     "metadata": {},
     "output_type": "execute_result"
    }
   ],
   "source": [
    "# We get number of non-null cells and it will count how many in the one unique column it is lot of Ages\n",
    "\n",
    "data['Age'].value_counts()"
   ]
  },
  {
   "cell_type": "code",
   "execution_count": 15,
   "id": "3db4d6e2-757e-4bec-a2b8-cc2603a8e9de",
   "metadata": {},
   "outputs": [],
   "source": [
    "# So, perfect solution to it is fill null cells with median of all values\n",
    "\n",
    "data['Age'].fillna(data['Age'].median(), inplace = True)"
   ]
  },
  {
   "cell_type": "code",
   "execution_count": 16,
   "id": "c1e4e968-936e-43f4-8e54-7d4c50cb940b",
   "metadata": {},
   "outputs": [
    {
     "data": {
      "text/plain": [
       "59.0    15\n",
       "50.0    14\n",
       "63.0    14\n",
       "54.0    13\n",
       "56.0    13\n",
       "58.0    13\n",
       "46.0    12\n",
       "62.0    11\n",
       "53.0    10\n",
       "68.0    10\n",
       "60.0     9\n",
       "49.0     9\n",
       "47.0     9\n",
       "45.0     9\n",
       "51.0     9\n",
       "52.0     8\n",
       "61.0     8\n",
       "77.0     8\n",
       "66.0     8\n",
       "71.0     7\n",
       "48.0     7\n",
       "41.0     6\n",
       "74.0     6\n",
       "64.0     6\n",
       "65.0     6\n",
       "79.0     6\n",
       "40.0     6\n",
       "57.0     6\n",
       "44.0     5\n",
       "76.0     5\n",
       "42.0     5\n",
       "80.0     4\n",
       "78.0     4\n",
       "85.0     4\n",
       "84.0     4\n",
       "69.0     4\n",
       "55.0     4\n",
       "36.0     3\n",
       "39.0     3\n",
       "38.0     3\n",
       "73.0     3\n",
       "88.0     3\n",
       "67.0     3\n",
       "43.0     3\n",
       "75.0     3\n",
       "72.0     3\n",
       "82.0     2\n",
       "83.0     2\n",
       "87.0     2\n",
       "37.0     2\n",
       "29.0     2\n",
       "70.0     2\n",
       "89.0     1\n",
       "32.0     1\n",
       "90.0     1\n",
       "35.0     1\n",
       "81.0     1\n",
       "Name: Age, dtype: int64"
      ]
     },
     "execution_count": 16,
     "metadata": {},
     "output_type": "execute_result"
    }
   ],
   "source": [
    "# Recheck on values\n",
    "\n",
    "data['Age'].value_counts()"
   ]
  },
  {
   "cell_type": "code",
   "execution_count": 17,
   "id": "c3552ecb-7282-4c0a-bf29-2db53beabd3e",
   "metadata": {},
   "outputs": [
    {
     "data": {
      "text/plain": [
       "array([36., 43., 69., 56., 84., 53., 50., 77., 40., 71., 72., 75., 52.,\n",
       "       41., 37., 59., 62., 74., 87., 45., 55., 79., 47., 61., 68., 49.,\n",
       "       48., 46., 81., 89., 44., 78., 85., 60., 57., 54., 76., 58., 67.,\n",
       "       63., 82., 65., 73., 51., 83., 80., 39., 66., 42., 38., 64., 29.,\n",
       "       32., 70., 90., 35., 88.])"
      ]
     },
     "execution_count": 17,
     "metadata": {},
     "output_type": "execute_result"
    }
   ],
   "source": [
    "# Recheck on data to determine if we have null cells or not\n",
    "\n",
    "data['Age'].unique()"
   ]
  },
  {
   "cell_type": "code",
   "execution_count": 18,
   "id": "3e98e934-aa22-490c-9829-d088c1bd9a1c",
   "metadata": {},
   "outputs": [
    {
     "data": {
      "text/plain": [
       "Patient_ID             7\n",
       "Age                    0\n",
       "Gender                 0\n",
       "Protein1               7\n",
       "Protein2               7\n",
       "Protein3               7\n",
       "Protein4               7\n",
       "Tumour_Stage           7\n",
       "Histology              7\n",
       "ER status              7\n",
       "PR status              7\n",
       "HER2 status            7\n",
       "Surgery_type           7\n",
       "Date_of_Surgery        7\n",
       "Date_of_Last_Visit    24\n",
       "Patient_Status        20\n",
       "dtype: int64"
      ]
     },
     "execution_count": 18,
     "metadata": {},
     "output_type": "execute_result"
    }
   ],
   "source": [
    "# we will check it changed in main data or not\n",
    "\n",
    "\n",
    "data.isna().sum()"
   ]
  },
  {
   "cell_type": "markdown",
   "id": "b52d8a20-7f4f-4dfb-8201-306f59c41249",
   "metadata": {},
   "source": [
    "it changed and we resolved the nulls(empty) cells in the data (AGE, and GENDER)"
   ]
  },
  {
   "cell_type": "markdown",
   "id": "f1784c58-c937-4b5c-b40a-07338d5735a1",
   "metadata": {},
   "source": [
    " "
   ]
  },
  {
   "cell_type": "code",
   "execution_count": 19,
   "id": "349fce2e-fd56-4b04-9d6f-0a7626005eca",
   "metadata": {},
   "outputs": [
    {
     "name": "stdout",
     "output_type": "stream",
     "text": [
      "<class 'pandas.core.frame.DataFrame'>\n",
      "RangeIndex: 341 entries, 0 to 340\n",
      "Data columns (total 16 columns):\n",
      " #   Column              Non-Null Count  Dtype  \n",
      "---  ------              --------------  -----  \n",
      " 0   Patient_ID          334 non-null    object \n",
      " 1   Age                 341 non-null    float64\n",
      " 2   Gender              341 non-null    int64  \n",
      " 3   Protein1            334 non-null    float64\n",
      " 4   Protein2            334 non-null    float64\n",
      " 5   Protein3            334 non-null    float64\n",
      " 6   Protein4            334 non-null    float64\n",
      " 7   Tumour_Stage        334 non-null    object \n",
      " 8   Histology           334 non-null    object \n",
      " 9   ER status           334 non-null    object \n",
      " 10  PR status           334 non-null    object \n",
      " 11  HER2 status         334 non-null    object \n",
      " 12  Surgery_type        334 non-null    object \n",
      " 13  Date_of_Surgery     334 non-null    object \n",
      " 14  Date_of_Last_Visit  317 non-null    object \n",
      " 15  Patient_Status      321 non-null    object \n",
      "dtypes: float64(5), int64(1), object(10)\n",
      "memory usage: 42.8+ KB\n"
     ]
    }
   ],
   "source": [
    "# Re view on data what we have need a solutions\n",
    "\n",
    "data.info()"
   ]
  },
  {
   "cell_type": "markdown",
   "id": "f3bfb9d3-13e1-4b0d-bbdd-b1648ed94503",
   "metadata": {},
   "source": [
    " "
   ]
  },
  {
   "cell_type": "markdown",
   "id": "73271cd0-111f-4c71-ba99-74190d705ae0",
   "metadata": {},
   "source": [
    "So, we have column Patient_ID it's useless"
   ]
  },
  {
   "cell_type": "code",
   "execution_count": 20,
   "id": "301a1360-1111-45a7-be39-d558cc74dbc7",
   "metadata": {},
   "outputs": [],
   "source": [
    "# We will drop column Patient_ID that not affect on data we have\n",
    "\n",
    "data.drop(['Patient_ID'],axis = 1,inplace=True)"
   ]
  },
  {
   "cell_type": "code",
   "execution_count": 21,
   "id": "fc8c312b-0341-4aca-8d22-b7a393e3e611",
   "metadata": {},
   "outputs": [
    {
     "name": "stdout",
     "output_type": "stream",
     "text": [
      "<class 'pandas.core.frame.DataFrame'>\n",
      "RangeIndex: 341 entries, 0 to 340\n",
      "Data columns (total 15 columns):\n",
      " #   Column              Non-Null Count  Dtype  \n",
      "---  ------              --------------  -----  \n",
      " 0   Age                 341 non-null    float64\n",
      " 1   Gender              341 non-null    int64  \n",
      " 2   Protein1            334 non-null    float64\n",
      " 3   Protein2            334 non-null    float64\n",
      " 4   Protein3            334 non-null    float64\n",
      " 5   Protein4            334 non-null    float64\n",
      " 6   Tumour_Stage        334 non-null    object \n",
      " 7   Histology           334 non-null    object \n",
      " 8   ER status           334 non-null    object \n",
      " 9   PR status           334 non-null    object \n",
      " 10  HER2 status         334 non-null    object \n",
      " 11  Surgery_type        334 non-null    object \n",
      " 12  Date_of_Surgery     334 non-null    object \n",
      " 13  Date_of_Last_Visit  317 non-null    object \n",
      " 14  Patient_Status      321 non-null    object \n",
      "dtypes: float64(5), int64(1), object(9)\n",
      "memory usage: 40.1+ KB\n"
     ]
    }
   ],
   "source": [
    "# Recheck on data again to know what we have have a problem and solve it\n",
    "\n",
    "data.info()"
   ]
  },
  {
   "cell_type": "code",
   "execution_count": 22,
   "id": "ce594397-55e3-424b-8e4c-d76759d4a2c4",
   "metadata": {},
   "outputs": [
    {
     "data": {
      "text/plain": [
       "Age                    0\n",
       "Gender                 0\n",
       "Protein1               7\n",
       "Protein2               7\n",
       "Protein3               7\n",
       "Protein4               7\n",
       "Tumour_Stage           7\n",
       "Histology              7\n",
       "ER status              7\n",
       "PR status              7\n",
       "HER2 status            7\n",
       "Surgery_type           7\n",
       "Date_of_Surgery        7\n",
       "Date_of_Last_Visit    24\n",
       "Patient_Status        20\n",
       "dtype: int64"
      ]
     },
     "execution_count": 22,
     "metadata": {},
     "output_type": "execute_result"
    }
   ],
   "source": [
    "# Check what have null(empty) cells\n",
    "\n",
    "data.isna().sum()"
   ]
  },
  {
   "cell_type": "code",
   "execution_count": 23,
   "id": "41004505-f47c-4560-b914-8a06e73e4174",
   "metadata": {},
   "outputs": [
    {
     "data": {
      "text/plain": [
       "array(['15-Jan-17', '26-Apr-17', '08-Sep-17', '25-Jan-17', '06-May-17',\n",
       "       '18-Sep-17', '04-Feb-17', '16-May-17', '28-Sep-17', '14-Feb-17',\n",
       "       '26-May-17', '08-Oct-17', '24-Feb-17', '05-Jun-17', '18-Oct-17',\n",
       "       '06-Mar-17', '15-Jun-17', '28-Oct-17', '16-Mar-17', '25-Jun-17',\n",
       "       '07-Nov-17', '26-Mar-17', '17-Nov-17', '05-Apr-17', '27-Nov-17',\n",
       "       '15-Apr-17', '07-Dec-17', '25-Apr-17', '17-Dec-17', '05-May-17',\n",
       "       '27-Dec-17', '15-May-17', '06-Jan-18', '25-May-17', '16-Jan-18',\n",
       "       '04-Jun-17', '26-Jan-18', '14-Jun-17', '05-Feb-18', '24-Jun-17',\n",
       "       '15-Feb-18', '04-Jul-17', '25-Feb-18', '14-Jul-17', '07-Mar-18',\n",
       "       '24-Jul-17', '17-Mar-18', '03-Aug-17', '27-Mar-18', '13-Aug-17',\n",
       "       '06-Apr-18', '23-Aug-17', '16-Apr-18', '02-Sep-17', '26-Apr-18',\n",
       "       '12-Sep-17', '06-May-18', '22-Sep-17', '16-May-18', '02-Oct-17',\n",
       "       '26-May-18', '12-Oct-17', '05-Jun-18', '22-Oct-17', '15-Jun-18',\n",
       "       '01-Nov-17', '25-Jun-18', '11-Nov-17', '05-Jul-18', '21-Nov-17',\n",
       "       '15-Jul-18', '01-Dec-17', '25-Jul-18', '11-Dec-17', '04-Aug-18',\n",
       "       '21-Dec-17', '14-Aug-18', '31-Dec-17', '24-Aug-18', '10-Jan-18',\n",
       "       '03-Sep-18', '20-Jan-18', '13-Sep-18', '30-Jan-18', '23-Sep-18',\n",
       "       '09-Feb-18', '03-Oct-18', '19-Feb-18', '01-Mar-18', '13-Oct-18',\n",
       "       '11-Mar-18', '23-Oct-18', '21-Mar-18', '02-Nov-18', '31-Mar-18',\n",
       "       '12-Nov-18', '10-Apr-18', '22-Nov-18', '20-Apr-18', '02-Dec-18',\n",
       "       '30-Apr-18', '12-Dec-18', '10-May-18', '22-Dec-18', '20-May-18',\n",
       "       '01-Jan-19', '30-May-18', '11-Jan-19', '09-Jun-18', '21-Jan-19',\n",
       "       '19-Jun-18', '31-Jan-19', '29-Jun-18', '10-Feb-19', '09-Jul-18',\n",
       "       '20-Feb-19', '19-Jul-18', '02-Mar-19', '29-Jul-18', '12-Mar-19',\n",
       "       '08-Aug-18', '22-Mar-19', '18-Aug-18', '01-Apr-19', '28-Aug-18',\n",
       "       '11-Apr-19', '07-Sep-18', '21-Apr-19', '17-Sep-18', '01-May-19',\n",
       "       '27-Sep-18', '11-May-19', '07-Oct-18', '21-May-19', '17-Oct-18',\n",
       "       '31-May-19', '27-Oct-18', '10-Jun-19', '06-Nov-18', '20-Jun-19',\n",
       "       '16-Nov-18', '30-Jun-19', '26-Nov-18', '10-Jul-19', '06-Dec-18',\n",
       "       '20-Jul-19', '16-Dec-18', '26-Dec-18', '05-Jan-19', '15-Jan-19',\n",
       "       '25-Jan-19', '04-Feb-19', '14-Feb-19', '24-Feb-19', '06-Mar-19',\n",
       "       '16-Mar-19', '26-Mar-19', '05-Apr-19', '15-Apr-19', '25-Apr-19',\n",
       "       '05-May-19', '15-May-19', '25-May-19', '04-Jun-19', '14-Jun-19',\n",
       "       '24-Jun-19', '04-Jul-19', '14-Jul-19', '24-Jul-19', '03-Aug-19',\n",
       "       '13-Aug-19', '23-Aug-19', '02-Sep-19', '12-Sep-19', '22-Sep-19',\n",
       "       '02-Oct-19', '12-Oct-19', '22-Oct-19', '01-Nov-19', '11-Nov-19',\n",
       "       '21-Nov-19', nan], dtype=object)"
      ]
     },
     "execution_count": 23,
     "metadata": {},
     "output_type": "execute_result"
    }
   ],
   "source": [
    "data['Date_of_Surgery'].unique()"
   ]
  },
  {
   "cell_type": "code",
   "execution_count": 24,
   "id": "2b6a2973-931a-4f14-997c-af7c3fd45944",
   "metadata": {},
   "outputs": [
    {
     "data": {
      "text/plain": [
       "array(['19-Jun-17', '09-Nov-18', '09-Jun-18', '12-Jul-17', '27-Jun-19',\n",
       "       '15-Nov-21', '07-Feb-18', nan, '28-Sep-18', '15-Dec-17',\n",
       "       '19-Dec-17', '13-Sep-18', '05-Apr-17', '02-Mar-20', '28-Apr-20',\n",
       "       '09-Aug-19', '24-Oct-18', '22-Jul-18', '20-Oct-19', '23-Dec-19',\n",
       "       '28-Nov-17', '23-Sep-20', '15-Aug-18', '20-Jun-17', '11-Jan-18',\n",
       "       '10-Apr-18', '25-Jan-18', '24-May-18', '25-Jun-18', '26-Jun-22',\n",
       "       '18-Jul-18', '23-Feb-18', '21-Jun-17', '13-Apr-20', '16-May-18',\n",
       "       '01-Nov-17', '02-Dec-18', '10-Feb-18', '15-Jan-18', '10-Jan-18',\n",
       "       '23-Jan-19', '27-Feb-18', '10-Feb-20', '12-Mar-18', '12-Sep-20',\n",
       "       '03-May-26', '06-Oct-19', '24-Jul-17', '15-Aug-19', '05-Feb-21',\n",
       "       '23-Mar-20', '11-Mar-18', '27-Aug-18', '15-Oct-20', '14-Oct-20',\n",
       "       '17-Oct-17', '11-Oct-18', '23-Jun-19', '18-Mar-18', '02-May-20',\n",
       "       '06-Feb-19', '13-Aug-18', '09-Oct-20', '28-Feb-19', '17-Nov-20',\n",
       "       '19-Oct-20', '12-Aug-18', '21-Apr-20', '25-Jan-19', '04-May-18',\n",
       "       '09-Jan-20', '22-May-20', '25-Aug-19', '06-Dec-19', '29-Aug-18',\n",
       "       '26-Jul-20', '21-Apr-19', '02-Sep-18', '09-Sep-18', '07-Dec-19',\n",
       "       '26-Aug-19', '05-Jul-20', '04-Jul-18', '06-Dec-18', '16-Dec-19',\n",
       "       '16-Feb-19', '06-Aug-18', '23-Dec-20', '25-Sep-20', '22-Jul-20',\n",
       "       '22-Jun-19', '01-Jun-19', '08-Jun-18', '25-Jul-18', '23-Apr-19',\n",
       "       '11-Dec-18', '09-Aug-20', '23-Mar-18', '18-Dec-18', '15-Jan-20',\n",
       "       '21-Feb-21', '06-Dec-20', '08-Apr-20', '15-Mar-18', '13-Oct-18',\n",
       "       '12-Jun-19', '14-Mar-22', '03-Aug-19', '04-Jun-24', '27-Jan-21',\n",
       "       '07-Feb-20', '09-Feb-18', '04-Oct-19', '26-Oct-18', '23-Nov-18',\n",
       "       '30-Oct-19', '24-Aug-19', '06-Feb-20', '10-Apr-20', '11-Jun-19',\n",
       "       '19-Feb-19', '20-Mar-18', '15-Mar-22', '06-Jul-18', '03-Oct-18',\n",
       "       '12-Jul-19', '16-Nov-19', '24-Sep-18', '11-Apr-19', '08-Nov-19',\n",
       "       '29-Jan-19', '11-Jan-20', '04-Aug-19', '07-Nov-18', '05-Jan-19',\n",
       "       '09-Sep-20', '25-Oct-18', '26-Nov-19', '05-Jul-19', '26-Aug-18',\n",
       "       '22-Apr-20', '20-Jun-19', '30-Jun-19', '15-Jul-19', '25-Mar-20',\n",
       "       '15-Jun-18', '06-Mar-20', '28-Aug-18', '27-Aug-20', '01-Dec-19',\n",
       "       '25-Jun-19', '26-Oct-20', '11-Nov-19', '15-Nov-20', '19-Apr-20',\n",
       "       '18-Apr-19', '24-Sep-26', '08-Sep-18', '04-Nov-22', '17-Jul-19',\n",
       "       '23-Oct-18', '15-Sep-19', '30-Jan-20', '25-Aug-18', '27-Sep-18',\n",
       "       '10-Aug-20', '25-Oct-19', '13-Feb-21', '25-Jul-20', '17-Jun-19',\n",
       "       '09-Nov-20', '21-Feb-19', '20-Nov-18', '14-Nov-23', '19-May-22',\n",
       "       '25-May-20', '01-Nov-20', '29-Oct-20', '18-Feb-19', '19-Jun-19',\n",
       "       '20-Feb-20', '12-Mar-19', '26-Jan-21', '03-Mar-19', '22-Aug-20',\n",
       "       '21-Oct-19', '18-May-20', '05-Dec-18', '07-Sep-20', '27-Feb-20',\n",
       "       '15-Dec-19', '14-Feb-21', '08-May-20', '17-Oct-19', '02-Jul-19',\n",
       "       '13-Jul-19', '22-Sep-19', '17-Dec-18', '17-Jan-21', '26-May-19',\n",
       "       '27-Oct-20', '28-Jul-20', '04-May-20', '28-Jan-21', '01-Oct-20',\n",
       "       '16-Dec-18', '28-Dec-19', '19-Mar-20', '24-Jan-21', '26-Sep-20',\n",
       "       '07-Jan-21', '19-Apr-19', '29-Jun-19', '06-Oct-20', '15-Feb-21',\n",
       "       '28-Jan-20', '02-Dec-20', '08-Feb-21', '26-Jun-19', '25-Feb-20',\n",
       "       '27-Mar-20', '16-Feb-21', '06-Jul-20', '09-May-20', '10-Aug-19',\n",
       "       '03-May-19', '30-Jun-20', '03-Feb-20', '19-May-20', '10-Sep-20',\n",
       "       '05-Dec-20', '15-May-19', '25-Dec-20', '04-May-21', '14-Jul-20',\n",
       "       '13-Oct-20', '11-Oct-19', '30-Dec-20', '23-Aug-19', '14-Apr-20',\n",
       "       '17-Dec-19', '11-Mar-20', '03-Feb-21', '15-May-20', '18-Apr-20',\n",
       "       '08-Aug-20', '23-Jan-20', '02-Apr-20', '26-Feb-20', '26-Dec-19',\n",
       "       '19-Mar-21', '06-Aug-19', '29-Jan-20', '09-Feb-20', '04-Mar-21',\n",
       "       '18-Mar-20', '26-Jun-20', '22-Feb-21', '24-Mar-20', '12-Oct-20',\n",
       "       '03-Jun-20', '05-Mar-20', '03-Sep-19', '07-Oct-19', '16-Aug-20',\n",
       "       '02-Aug-20', '10-May-20', '28-Sep-20', '27-Jun-20', '10-Dec-20',\n",
       "       '21-Aug-20', '10-Jan-21', '31-May-20', '05-Jan-21', '08-Sep-20',\n",
       "       '27-Apr-20', '19-Jan-21', '07-Nov-20', '09-Feb-21', '01-Feb-21',\n",
       "       '24-Mar-21', '22-Jan-21', '28-Feb-21', '04-Mar-20', '18-Jan-21',\n",
       "       '19-Feb-21'], dtype=object)"
      ]
     },
     "execution_count": 24,
     "metadata": {},
     "output_type": "execute_result"
    }
   ],
   "source": [
    "data['Date_of_Last_Visit'].unique()"
   ]
  },
  {
   "cell_type": "markdown",
   "id": "8c3a6a29-d6f4-4f58-b0eb-7f64e1a1f55d",
   "metadata": {},
   "source": [
    " "
   ]
  },
  {
   "cell_type": "markdown",
   "id": "9b3f32e0-adf7-4c4e-ad79-10c2b99955cd",
   "metadata": {},
   "source": [
    "After what we saw, we have column Date_of_Surgery and Date_of_Last_Visit have problem and it is: the data not numeric value\n",
    "\n",
    "So, we will try to solve that problem by split data with '-' to get 3 values index to re fill it again in dataframe"
   ]
  },
  {
   "cell_type": "markdown",
   "id": "f72a1a00-0023-4fd6-92ab-488b05c06a9b",
   "metadata": {},
   "source": [
    " "
   ]
  },
  {
   "cell_type": "code",
   "execution_count": 25,
   "id": "17ec0724-ef29-4441-aee5-5975dec59675",
   "metadata": {},
   "outputs": [],
   "source": [
    "# It is one of solution if we have data numeric and we need to change the format example: data we have:23-04-01 change format to dd/mm/yyyy it will be 23/04/2001\n",
    "\n",
    "\n",
    "#data['Date_of_Surgery'] = pd.to_datetime(data['Date_of_Surgery'], format = '%dd-%mm-%yy')"
   ]
  },
  {
   "cell_type": "code",
   "execution_count": 26,
   "id": "87d9fb86-774d-47b9-9977-d032a98e0a57",
   "metadata": {},
   "outputs": [],
   "source": [
    "# We will split the data in column by '-' and expand it\n",
    "\n",
    "\n",
    "# For column Date_of_Surgery\n",
    "df1 = data[\"Date_of_Surgery\"].str.split(\"-\", n = 2, expand = True)\n",
    "\n",
    "# For coulmn Date_of_Last_Visit\n",
    "df2 = data[\"Date_of_Last_Visit\"].str.split(\"-\", n = 2, expand = True)"
   ]
  },
  {
   "cell_type": "code",
   "execution_count": 27,
   "id": "5eed9aee-3961-4049-9454-b014d80c1082",
   "metadata": {},
   "outputs": [],
   "source": [
    "# Make new columns of splited data we have in day, month, and year\n",
    "\n",
    "\n",
    "# For Date_of_Surgery\n",
    "\n",
    "data[\"Day_of_Surgery\"] = df1[0]\n",
    " \n",
    "data[\"Month_of_Surgery\"]= df1[1]\n",
    "\n",
    "data[\"Year_of_Surgery\"] = df1[2]\n",
    "\n",
    "\n",
    "# For Date_of_Last_Visit\n",
    "\n",
    "data[\"Day_of_Last_Visit\"] = df2[0]\n",
    " \n",
    "data[\"Month_of_Last_Visit\"]= df2[1]\n",
    "\n",
    "data[\"Year_of_Last_Visit\"] = df2[2]"
   ]
  },
  {
   "cell_type": "code",
   "execution_count": 28,
   "id": "6816e52d-ff34-4f8c-bf15-edc46b0e5d5b",
   "metadata": {},
   "outputs": [
    {
     "data": {
      "text/html": [
       "<div>\n",
       "<style scoped>\n",
       "    .dataframe tbody tr th:only-of-type {\n",
       "        vertical-align: middle;\n",
       "    }\n",
       "\n",
       "    .dataframe tbody tr th {\n",
       "        vertical-align: top;\n",
       "    }\n",
       "\n",
       "    .dataframe thead th {\n",
       "        text-align: right;\n",
       "    }\n",
       "</style>\n",
       "<table border=\"1\" class=\"dataframe\">\n",
       "  <thead>\n",
       "    <tr style=\"text-align: right;\">\n",
       "      <th></th>\n",
       "      <th>Age</th>\n",
       "      <th>Gender</th>\n",
       "      <th>Protein1</th>\n",
       "      <th>Protein2</th>\n",
       "      <th>Protein3</th>\n",
       "      <th>Protein4</th>\n",
       "      <th>Tumour_Stage</th>\n",
       "      <th>Histology</th>\n",
       "      <th>ER status</th>\n",
       "      <th>PR status</th>\n",
       "      <th>...</th>\n",
       "      <th>Surgery_type</th>\n",
       "      <th>Date_of_Surgery</th>\n",
       "      <th>Date_of_Last_Visit</th>\n",
       "      <th>Patient_Status</th>\n",
       "      <th>Day_of_Surgery</th>\n",
       "      <th>Month_of_Surgery</th>\n",
       "      <th>Year_of_Surgery</th>\n",
       "      <th>Day_of_Last_Visit</th>\n",
       "      <th>Month_of_Last_Visit</th>\n",
       "      <th>Year_of_Last_Visit</th>\n",
       "    </tr>\n",
       "  </thead>\n",
       "  <tbody>\n",
       "    <tr>\n",
       "      <th>0</th>\n",
       "      <td>36.0</td>\n",
       "      <td>1</td>\n",
       "      <td>0.080353</td>\n",
       "      <td>0.42638</td>\n",
       "      <td>0.54715</td>\n",
       "      <td>0.273680</td>\n",
       "      <td>III</td>\n",
       "      <td>Infiltrating Ductal Carcinoma</td>\n",
       "      <td>Positive</td>\n",
       "      <td>Positive</td>\n",
       "      <td>...</td>\n",
       "      <td>Modified Radical Mastectomy</td>\n",
       "      <td>15-Jan-17</td>\n",
       "      <td>19-Jun-17</td>\n",
       "      <td>Alive</td>\n",
       "      <td>15</td>\n",
       "      <td>Jan</td>\n",
       "      <td>17</td>\n",
       "      <td>19</td>\n",
       "      <td>Jun</td>\n",
       "      <td>17</td>\n",
       "    </tr>\n",
       "    <tr>\n",
       "      <th>1</th>\n",
       "      <td>43.0</td>\n",
       "      <td>1</td>\n",
       "      <td>-0.420320</td>\n",
       "      <td>0.57807</td>\n",
       "      <td>0.61447</td>\n",
       "      <td>-0.031505</td>\n",
       "      <td>II</td>\n",
       "      <td>Mucinous Carcinoma</td>\n",
       "      <td>Positive</td>\n",
       "      <td>Positive</td>\n",
       "      <td>...</td>\n",
       "      <td>Lumpectomy</td>\n",
       "      <td>26-Apr-17</td>\n",
       "      <td>09-Nov-18</td>\n",
       "      <td>Dead</td>\n",
       "      <td>26</td>\n",
       "      <td>Apr</td>\n",
       "      <td>17</td>\n",
       "      <td>09</td>\n",
       "      <td>Nov</td>\n",
       "      <td>18</td>\n",
       "    </tr>\n",
       "    <tr>\n",
       "      <th>2</th>\n",
       "      <td>69.0</td>\n",
       "      <td>1</td>\n",
       "      <td>0.213980</td>\n",
       "      <td>1.31140</td>\n",
       "      <td>-0.32747</td>\n",
       "      <td>-0.234260</td>\n",
       "      <td>III</td>\n",
       "      <td>Infiltrating Ductal Carcinoma</td>\n",
       "      <td>Positive</td>\n",
       "      <td>Positive</td>\n",
       "      <td>...</td>\n",
       "      <td>Other</td>\n",
       "      <td>08-Sep-17</td>\n",
       "      <td>09-Jun-18</td>\n",
       "      <td>Alive</td>\n",
       "      <td>08</td>\n",
       "      <td>Sep</td>\n",
       "      <td>17</td>\n",
       "      <td>09</td>\n",
       "      <td>Jun</td>\n",
       "      <td>18</td>\n",
       "    </tr>\n",
       "    <tr>\n",
       "      <th>3</th>\n",
       "      <td>56.0</td>\n",
       "      <td>1</td>\n",
       "      <td>0.345090</td>\n",
       "      <td>-0.21147</td>\n",
       "      <td>-0.19304</td>\n",
       "      <td>0.124270</td>\n",
       "      <td>II</td>\n",
       "      <td>Infiltrating Ductal Carcinoma</td>\n",
       "      <td>Positive</td>\n",
       "      <td>Positive</td>\n",
       "      <td>...</td>\n",
       "      <td>Modified Radical Mastectomy</td>\n",
       "      <td>25-Jan-17</td>\n",
       "      <td>12-Jul-17</td>\n",
       "      <td>Alive</td>\n",
       "      <td>25</td>\n",
       "      <td>Jan</td>\n",
       "      <td>17</td>\n",
       "      <td>12</td>\n",
       "      <td>Jul</td>\n",
       "      <td>17</td>\n",
       "    </tr>\n",
       "    <tr>\n",
       "      <th>4</th>\n",
       "      <td>56.0</td>\n",
       "      <td>1</td>\n",
       "      <td>0.221550</td>\n",
       "      <td>1.90680</td>\n",
       "      <td>0.52045</td>\n",
       "      <td>-0.311990</td>\n",
       "      <td>II</td>\n",
       "      <td>Infiltrating Ductal Carcinoma</td>\n",
       "      <td>Positive</td>\n",
       "      <td>Positive</td>\n",
       "      <td>...</td>\n",
       "      <td>Other</td>\n",
       "      <td>06-May-17</td>\n",
       "      <td>27-Jun-19</td>\n",
       "      <td>Dead</td>\n",
       "      <td>06</td>\n",
       "      <td>May</td>\n",
       "      <td>17</td>\n",
       "      <td>27</td>\n",
       "      <td>Jun</td>\n",
       "      <td>19</td>\n",
       "    </tr>\n",
       "  </tbody>\n",
       "</table>\n",
       "<p>5 rows × 21 columns</p>\n",
       "</div>"
      ],
      "text/plain": [
       "    Age  Gender  Protein1  Protein2  Protein3  Protein4 Tumour_Stage  \\\n",
       "0  36.0       1  0.080353   0.42638   0.54715  0.273680          III   \n",
       "1  43.0       1 -0.420320   0.57807   0.61447 -0.031505           II   \n",
       "2  69.0       1  0.213980   1.31140  -0.32747 -0.234260          III   \n",
       "3  56.0       1  0.345090  -0.21147  -0.19304  0.124270           II   \n",
       "4  56.0       1  0.221550   1.90680   0.52045 -0.311990           II   \n",
       "\n",
       "                       Histology ER status PR status  ...  \\\n",
       "0  Infiltrating Ductal Carcinoma  Positive  Positive  ...   \n",
       "1             Mucinous Carcinoma  Positive  Positive  ...   \n",
       "2  Infiltrating Ductal Carcinoma  Positive  Positive  ...   \n",
       "3  Infiltrating Ductal Carcinoma  Positive  Positive  ...   \n",
       "4  Infiltrating Ductal Carcinoma  Positive  Positive  ...   \n",
       "\n",
       "                  Surgery_type Date_of_Surgery Date_of_Last_Visit  \\\n",
       "0  Modified Radical Mastectomy       15-Jan-17          19-Jun-17   \n",
       "1                   Lumpectomy       26-Apr-17          09-Nov-18   \n",
       "2                        Other       08-Sep-17          09-Jun-18   \n",
       "3  Modified Radical Mastectomy       25-Jan-17          12-Jul-17   \n",
       "4                        Other       06-May-17          27-Jun-19   \n",
       "\n",
       "  Patient_Status Day_of_Surgery Month_of_Surgery Year_of_Surgery  \\\n",
       "0          Alive             15              Jan              17   \n",
       "1           Dead             26              Apr              17   \n",
       "2          Alive             08              Sep              17   \n",
       "3          Alive             25              Jan              17   \n",
       "4           Dead             06              May              17   \n",
       "\n",
       "  Day_of_Last_Visit Month_of_Last_Visit Year_of_Last_Visit  \n",
       "0                19                 Jun                 17  \n",
       "1                09                 Nov                 18  \n",
       "2                09                 Jun                 18  \n",
       "3                12                 Jul                 17  \n",
       "4                27                 Jun                 19  \n",
       "\n",
       "[5 rows x 21 columns]"
      ]
     },
     "execution_count": 28,
     "metadata": {},
     "output_type": "execute_result"
    }
   ],
   "source": [
    "# Show data to look what changed?\n",
    "\n",
    "data.head()"
   ]
  },
  {
   "cell_type": "code",
   "execution_count": 29,
   "id": "ace6913d-dd62-42ce-abbe-ac9d12b72ca3",
   "metadata": {},
   "outputs": [
    {
     "data": {
      "text/plain": [
       "array(['Jan', 'Apr', 'Sep', 'May', 'Feb', 'Oct', 'Jun', 'Mar', 'Nov',\n",
       "       'Dec', 'Jul', 'Aug', nan], dtype=object)"
      ]
     },
     "execution_count": 29,
     "metadata": {},
     "output_type": "execute_result"
    }
   ],
   "source": [
    "# we have in Month_of_Surgery strings values so, we need to know all unique values\n",
    "\n",
    "data[\"Month_of_Surgery\"].unique()"
   ]
  },
  {
   "cell_type": "code",
   "execution_count": 30,
   "id": "9da16890-6171-4f71-a009-f1c9b5e26ebe",
   "metadata": {},
   "outputs": [],
   "source": [
    "# we have in Month_of_Surgery strings values of month so we will replace it with numeric data\n",
    "\n",
    "data['Month_of_Surgery'].replace({'Jan':1,'Apr':4,'Sep':9,'May':5,'Feb':2,'Oct':10,'Mar':3,'Jun':6,'Nov':11,'Dec':12,'Jul':7,'Aug':8},inplace = True)\n",
    "data['Month_of_Last_Visit'].replace({'Jan':1,'Apr':4,'Sep':9,'May':5,'Feb':2,'Oct':10,'Mar':3,'Jun':6,'Nov':11,'Dec':12,'Jul':7,'Aug':8},inplace = True)"
   ]
  },
  {
   "cell_type": "code",
   "execution_count": 31,
   "id": "7073b7fe-9e37-44a5-a769-e4723664c459",
   "metadata": {},
   "outputs": [
    {
     "data": {
      "text/plain": [
       "array([ 1.,  4.,  9.,  5.,  2., 10.,  6.,  3., 11., 12.,  7.,  8., nan])"
      ]
     },
     "execution_count": 31,
     "metadata": {},
     "output_type": "execute_result"
    }
   ],
   "source": [
    "# Check if that changed or not\n",
    "\n",
    "data[\"Month_of_Surgery\"].unique()"
   ]
  },
  {
   "cell_type": "code",
   "execution_count": 32,
   "id": "ab748173-3813-4b2e-bcb0-bf01079de1dc",
   "metadata": {},
   "outputs": [
    {
     "data": {
      "text/plain": [
       "array([ 6., 11.,  7.,  2., nan,  9., 12.,  4.,  3.,  8., 10.,  1.,  5.])"
      ]
     },
     "execution_count": 32,
     "metadata": {},
     "output_type": "execute_result"
    }
   ],
   "source": [
    "# Check if that changed or not\n",
    "\n",
    "data[\"Month_of_Last_Visit\"].unique()"
   ]
  },
  {
   "cell_type": "code",
   "execution_count": 33,
   "id": "0410e393-679b-4ec1-8876-b2e2dc89ebac",
   "metadata": {},
   "outputs": [],
   "source": [
    "# when it splited it stored as strings but it intger number so we changed it to numeric data\n",
    "\n",
    "data['Day_of_Surgery'] = pd.to_numeric(data['Day_of_Surgery'])\n",
    "data['Day_of_Last_Visit'] = pd.to_numeric(data['Day_of_Last_Visit'])\n",
    "\n",
    "# I tried to change it to integer but i didn't know solve of that problem\\\n",
    "\n",
    "#data['Day_of_Surgery'] = data['Day_of_Surgery'].astype(int)\n"
   ]
  },
  {
   "cell_type": "code",
   "execution_count": 34,
   "id": "8c948292-7221-4246-aa57-2fd6a9c934bd",
   "metadata": {},
   "outputs": [],
   "source": [
    "# Also like before steps\n",
    "\n",
    "data['Year_of_Surgery'] = pd.to_numeric(data['Year_of_Surgery'])\n",
    "data['Year_of_Last_Visit'] = pd.to_numeric(data['Year_of_Last_Visit'])\n"
   ]
  },
  {
   "cell_type": "code",
   "execution_count": 35,
   "id": "858fdb0a-0d0b-47f7-b6da-d15b1ef0f452",
   "metadata": {},
   "outputs": [],
   "source": [
    "# We replace that two column to day, month, and year so we now can drop it\n",
    "\n",
    "data.drop(columns =[\"Date_of_Surgery\"], inplace = True)\n",
    "data.drop(columns =[\"Date_of_Last_Visit\"], inplace = True)"
   ]
  },
  {
   "cell_type": "code",
   "execution_count": 36,
   "id": "165f03b2-f940-4cc7-9a7e-7957b16f29f9",
   "metadata": {},
   "outputs": [
    {
     "data": {
      "text/html": [
       "<div>\n",
       "<style scoped>\n",
       "    .dataframe tbody tr th:only-of-type {\n",
       "        vertical-align: middle;\n",
       "    }\n",
       "\n",
       "    .dataframe tbody tr th {\n",
       "        vertical-align: top;\n",
       "    }\n",
       "\n",
       "    .dataframe thead th {\n",
       "        text-align: right;\n",
       "    }\n",
       "</style>\n",
       "<table border=\"1\" class=\"dataframe\">\n",
       "  <thead>\n",
       "    <tr style=\"text-align: right;\">\n",
       "      <th></th>\n",
       "      <th>Age</th>\n",
       "      <th>Gender</th>\n",
       "      <th>Protein1</th>\n",
       "      <th>Protein2</th>\n",
       "      <th>Protein3</th>\n",
       "      <th>Protein4</th>\n",
       "      <th>Tumour_Stage</th>\n",
       "      <th>Histology</th>\n",
       "      <th>ER status</th>\n",
       "      <th>PR status</th>\n",
       "      <th>HER2 status</th>\n",
       "      <th>Surgery_type</th>\n",
       "      <th>Patient_Status</th>\n",
       "      <th>Day_of_Surgery</th>\n",
       "      <th>Month_of_Surgery</th>\n",
       "      <th>Year_of_Surgery</th>\n",
       "      <th>Day_of_Last_Visit</th>\n",
       "      <th>Month_of_Last_Visit</th>\n",
       "      <th>Year_of_Last_Visit</th>\n",
       "    </tr>\n",
       "  </thead>\n",
       "  <tbody>\n",
       "    <tr>\n",
       "      <th>0</th>\n",
       "      <td>36.0</td>\n",
       "      <td>1</td>\n",
       "      <td>0.080353</td>\n",
       "      <td>0.42638</td>\n",
       "      <td>0.54715</td>\n",
       "      <td>0.273680</td>\n",
       "      <td>III</td>\n",
       "      <td>Infiltrating Ductal Carcinoma</td>\n",
       "      <td>Positive</td>\n",
       "      <td>Positive</td>\n",
       "      <td>Negative</td>\n",
       "      <td>Modified Radical Mastectomy</td>\n",
       "      <td>Alive</td>\n",
       "      <td>15.0</td>\n",
       "      <td>1.0</td>\n",
       "      <td>17.0</td>\n",
       "      <td>19.0</td>\n",
       "      <td>6.0</td>\n",
       "      <td>17.0</td>\n",
       "    </tr>\n",
       "    <tr>\n",
       "      <th>1</th>\n",
       "      <td>43.0</td>\n",
       "      <td>1</td>\n",
       "      <td>-0.420320</td>\n",
       "      <td>0.57807</td>\n",
       "      <td>0.61447</td>\n",
       "      <td>-0.031505</td>\n",
       "      <td>II</td>\n",
       "      <td>Mucinous Carcinoma</td>\n",
       "      <td>Positive</td>\n",
       "      <td>Positive</td>\n",
       "      <td>Negative</td>\n",
       "      <td>Lumpectomy</td>\n",
       "      <td>Dead</td>\n",
       "      <td>26.0</td>\n",
       "      <td>4.0</td>\n",
       "      <td>17.0</td>\n",
       "      <td>9.0</td>\n",
       "      <td>11.0</td>\n",
       "      <td>18.0</td>\n",
       "    </tr>\n",
       "    <tr>\n",
       "      <th>2</th>\n",
       "      <td>69.0</td>\n",
       "      <td>1</td>\n",
       "      <td>0.213980</td>\n",
       "      <td>1.31140</td>\n",
       "      <td>-0.32747</td>\n",
       "      <td>-0.234260</td>\n",
       "      <td>III</td>\n",
       "      <td>Infiltrating Ductal Carcinoma</td>\n",
       "      <td>Positive</td>\n",
       "      <td>Positive</td>\n",
       "      <td>Negative</td>\n",
       "      <td>Other</td>\n",
       "      <td>Alive</td>\n",
       "      <td>8.0</td>\n",
       "      <td>9.0</td>\n",
       "      <td>17.0</td>\n",
       "      <td>9.0</td>\n",
       "      <td>6.0</td>\n",
       "      <td>18.0</td>\n",
       "    </tr>\n",
       "    <tr>\n",
       "      <th>3</th>\n",
       "      <td>56.0</td>\n",
       "      <td>1</td>\n",
       "      <td>0.345090</td>\n",
       "      <td>-0.21147</td>\n",
       "      <td>-0.19304</td>\n",
       "      <td>0.124270</td>\n",
       "      <td>II</td>\n",
       "      <td>Infiltrating Ductal Carcinoma</td>\n",
       "      <td>Positive</td>\n",
       "      <td>Positive</td>\n",
       "      <td>Negative</td>\n",
       "      <td>Modified Radical Mastectomy</td>\n",
       "      <td>Alive</td>\n",
       "      <td>25.0</td>\n",
       "      <td>1.0</td>\n",
       "      <td>17.0</td>\n",
       "      <td>12.0</td>\n",
       "      <td>7.0</td>\n",
       "      <td>17.0</td>\n",
       "    </tr>\n",
       "    <tr>\n",
       "      <th>4</th>\n",
       "      <td>56.0</td>\n",
       "      <td>1</td>\n",
       "      <td>0.221550</td>\n",
       "      <td>1.90680</td>\n",
       "      <td>0.52045</td>\n",
       "      <td>-0.311990</td>\n",
       "      <td>II</td>\n",
       "      <td>Infiltrating Ductal Carcinoma</td>\n",
       "      <td>Positive</td>\n",
       "      <td>Positive</td>\n",
       "      <td>Negative</td>\n",
       "      <td>Other</td>\n",
       "      <td>Dead</td>\n",
       "      <td>6.0</td>\n",
       "      <td>5.0</td>\n",
       "      <td>17.0</td>\n",
       "      <td>27.0</td>\n",
       "      <td>6.0</td>\n",
       "      <td>19.0</td>\n",
       "    </tr>\n",
       "  </tbody>\n",
       "</table>\n",
       "</div>"
      ],
      "text/plain": [
       "    Age  Gender  Protein1  Protein2  Protein3  Protein4 Tumour_Stage  \\\n",
       "0  36.0       1  0.080353   0.42638   0.54715  0.273680          III   \n",
       "1  43.0       1 -0.420320   0.57807   0.61447 -0.031505           II   \n",
       "2  69.0       1  0.213980   1.31140  -0.32747 -0.234260          III   \n",
       "3  56.0       1  0.345090  -0.21147  -0.19304  0.124270           II   \n",
       "4  56.0       1  0.221550   1.90680   0.52045 -0.311990           II   \n",
       "\n",
       "                       Histology ER status PR status HER2 status  \\\n",
       "0  Infiltrating Ductal Carcinoma  Positive  Positive    Negative   \n",
       "1             Mucinous Carcinoma  Positive  Positive    Negative   \n",
       "2  Infiltrating Ductal Carcinoma  Positive  Positive    Negative   \n",
       "3  Infiltrating Ductal Carcinoma  Positive  Positive    Negative   \n",
       "4  Infiltrating Ductal Carcinoma  Positive  Positive    Negative   \n",
       "\n",
       "                  Surgery_type Patient_Status  Day_of_Surgery  \\\n",
       "0  Modified Radical Mastectomy          Alive            15.0   \n",
       "1                   Lumpectomy           Dead            26.0   \n",
       "2                        Other          Alive             8.0   \n",
       "3  Modified Radical Mastectomy          Alive            25.0   \n",
       "4                        Other           Dead             6.0   \n",
       "\n",
       "   Month_of_Surgery  Year_of_Surgery  Day_of_Last_Visit  Month_of_Last_Visit  \\\n",
       "0               1.0             17.0               19.0                  6.0   \n",
       "1               4.0             17.0                9.0                 11.0   \n",
       "2               9.0             17.0                9.0                  6.0   \n",
       "3               1.0             17.0               12.0                  7.0   \n",
       "4               5.0             17.0               27.0                  6.0   \n",
       "\n",
       "   Year_of_Last_Visit  \n",
       "0                17.0  \n",
       "1                18.0  \n",
       "2                18.0  \n",
       "3                17.0  \n",
       "4                19.0  "
      ]
     },
     "execution_count": 36,
     "metadata": {},
     "output_type": "execute_result"
    }
   ],
   "source": [
    "# Check data\n",
    "\n",
    "data.head()"
   ]
  },
  {
   "cell_type": "code",
   "execution_count": 37,
   "id": "560ecf9e-62bd-443e-a044-97bc7d102a0e",
   "metadata": {},
   "outputs": [
    {
     "name": "stdout",
     "output_type": "stream",
     "text": [
      "<class 'pandas.core.frame.DataFrame'>\n",
      "RangeIndex: 341 entries, 0 to 340\n",
      "Data columns (total 19 columns):\n",
      " #   Column               Non-Null Count  Dtype  \n",
      "---  ------               --------------  -----  \n",
      " 0   Age                  341 non-null    float64\n",
      " 1   Gender               341 non-null    int64  \n",
      " 2   Protein1             334 non-null    float64\n",
      " 3   Protein2             334 non-null    float64\n",
      " 4   Protein3             334 non-null    float64\n",
      " 5   Protein4             334 non-null    float64\n",
      " 6   Tumour_Stage         334 non-null    object \n",
      " 7   Histology            334 non-null    object \n",
      " 8   ER status            334 non-null    object \n",
      " 9   PR status            334 non-null    object \n",
      " 10  HER2 status          334 non-null    object \n",
      " 11  Surgery_type         334 non-null    object \n",
      " 12  Patient_Status       321 non-null    object \n",
      " 13  Day_of_Surgery       334 non-null    float64\n",
      " 14  Month_of_Surgery     334 non-null    float64\n",
      " 15  Year_of_Surgery      334 non-null    float64\n",
      " 16  Day_of_Last_Visit    317 non-null    float64\n",
      " 17  Month_of_Last_Visit  317 non-null    float64\n",
      " 18  Year_of_Last_Visit   317 non-null    float64\n",
      "dtypes: float64(11), int64(1), object(7)\n",
      "memory usage: 50.7+ KB\n"
     ]
    }
   ],
   "source": [
    "# Check data\n",
    "\n",
    "data.info()"
   ]
  },
  {
   "cell_type": "code",
   "execution_count": 38,
   "id": "85b5f872-8ea4-4ad0-abca-7379a54bf05d",
   "metadata": {},
   "outputs": [
    {
     "data": {
      "text/plain": [
       "array(['Alive', 'Dead', nan], dtype=object)"
      ]
     },
     "execution_count": 38,
     "metadata": {},
     "output_type": "execute_result"
    }
   ],
   "source": [
    "# We need to Know unique values to write it in replace\n",
    "\n",
    "data['Patient_Status'].unique()"
   ]
  },
  {
   "cell_type": "code",
   "execution_count": 39,
   "id": "eea3fae4-8332-4aed-a565-2308fa892d3a",
   "metadata": {},
   "outputs": [],
   "source": [
    "# we need to change data to numeric so we replace data with numeric values not object\n",
    "\n",
    "data['Patient_Status'].replace({'Alive':1,'Dead':0},inplace = True)"
   ]
  },
  {
   "cell_type": "code",
   "execution_count": 40,
   "id": "99ad6935-4eea-481e-97ad-195b89c4390d",
   "metadata": {},
   "outputs": [
    {
     "data": {
      "text/plain": [
       "array([ 1.,  0., nan])"
      ]
     },
     "execution_count": 40,
     "metadata": {},
     "output_type": "execute_result"
    }
   ],
   "source": [
    "# Check data\n",
    "\n",
    "data['Patient_Status'].unique()"
   ]
  },
  {
   "cell_type": "code",
   "execution_count": 41,
   "id": "47cda993-b541-446e-a98a-cc77c0104670",
   "metadata": {},
   "outputs": [
    {
     "name": "stdout",
     "output_type": "stream",
     "text": [
      "<class 'pandas.core.frame.DataFrame'>\n",
      "RangeIndex: 341 entries, 0 to 340\n",
      "Data columns (total 19 columns):\n",
      " #   Column               Non-Null Count  Dtype  \n",
      "---  ------               --------------  -----  \n",
      " 0   Age                  341 non-null    float64\n",
      " 1   Gender               341 non-null    int64  \n",
      " 2   Protein1             334 non-null    float64\n",
      " 3   Protein2             334 non-null    float64\n",
      " 4   Protein3             334 non-null    float64\n",
      " 5   Protein4             334 non-null    float64\n",
      " 6   Tumour_Stage         334 non-null    object \n",
      " 7   Histology            334 non-null    object \n",
      " 8   ER status            334 non-null    object \n",
      " 9   PR status            334 non-null    object \n",
      " 10  HER2 status          334 non-null    object \n",
      " 11  Surgery_type         334 non-null    object \n",
      " 12  Patient_Status       321 non-null    float64\n",
      " 13  Day_of_Surgery       334 non-null    float64\n",
      " 14  Month_of_Surgery     334 non-null    float64\n",
      " 15  Year_of_Surgery      334 non-null    float64\n",
      " 16  Day_of_Last_Visit    317 non-null    float64\n",
      " 17  Month_of_Last_Visit  317 non-null    float64\n",
      " 18  Year_of_Last_Visit   317 non-null    float64\n",
      "dtypes: float64(12), int64(1), object(6)\n",
      "memory usage: 50.7+ KB\n"
     ]
    }
   ],
   "source": [
    "# Check data\n",
    "\n",
    "data.info()"
   ]
  },
  {
   "cell_type": "code",
   "execution_count": 42,
   "id": "c581515b-d96b-4c2f-9fe5-60ba25168145",
   "metadata": {},
   "outputs": [
    {
     "data": {
      "text/html": [
       "<div>\n",
       "<style scoped>\n",
       "    .dataframe tbody tr th:only-of-type {\n",
       "        vertical-align: middle;\n",
       "    }\n",
       "\n",
       "    .dataframe tbody tr th {\n",
       "        vertical-align: top;\n",
       "    }\n",
       "\n",
       "    .dataframe thead th {\n",
       "        text-align: right;\n",
       "    }\n",
       "</style>\n",
       "<table border=\"1\" class=\"dataframe\">\n",
       "  <thead>\n",
       "    <tr style=\"text-align: right;\">\n",
       "      <th></th>\n",
       "      <th>Age</th>\n",
       "      <th>Gender</th>\n",
       "      <th>Protein1</th>\n",
       "      <th>Protein2</th>\n",
       "      <th>Protein3</th>\n",
       "      <th>Protein4</th>\n",
       "      <th>Tumour_Stage</th>\n",
       "      <th>Histology</th>\n",
       "      <th>ER status</th>\n",
       "      <th>PR status</th>\n",
       "      <th>HER2 status</th>\n",
       "      <th>Surgery_type</th>\n",
       "      <th>Patient_Status</th>\n",
       "      <th>Day_of_Surgery</th>\n",
       "      <th>Month_of_Surgery</th>\n",
       "      <th>Year_of_Surgery</th>\n",
       "      <th>Day_of_Last_Visit</th>\n",
       "      <th>Month_of_Last_Visit</th>\n",
       "      <th>Year_of_Last_Visit</th>\n",
       "    </tr>\n",
       "  </thead>\n",
       "  <tbody>\n",
       "    <tr>\n",
       "      <th>0</th>\n",
       "      <td>36.0</td>\n",
       "      <td>1</td>\n",
       "      <td>0.080353</td>\n",
       "      <td>0.42638</td>\n",
       "      <td>0.54715</td>\n",
       "      <td>0.273680</td>\n",
       "      <td>III</td>\n",
       "      <td>Infiltrating Ductal Carcinoma</td>\n",
       "      <td>Positive</td>\n",
       "      <td>Positive</td>\n",
       "      <td>Negative</td>\n",
       "      <td>Modified Radical Mastectomy</td>\n",
       "      <td>1.0</td>\n",
       "      <td>15.0</td>\n",
       "      <td>1.0</td>\n",
       "      <td>17.0</td>\n",
       "      <td>19.0</td>\n",
       "      <td>6.0</td>\n",
       "      <td>17.0</td>\n",
       "    </tr>\n",
       "    <tr>\n",
       "      <th>1</th>\n",
       "      <td>43.0</td>\n",
       "      <td>1</td>\n",
       "      <td>-0.420320</td>\n",
       "      <td>0.57807</td>\n",
       "      <td>0.61447</td>\n",
       "      <td>-0.031505</td>\n",
       "      <td>II</td>\n",
       "      <td>Mucinous Carcinoma</td>\n",
       "      <td>Positive</td>\n",
       "      <td>Positive</td>\n",
       "      <td>Negative</td>\n",
       "      <td>Lumpectomy</td>\n",
       "      <td>0.0</td>\n",
       "      <td>26.0</td>\n",
       "      <td>4.0</td>\n",
       "      <td>17.0</td>\n",
       "      <td>9.0</td>\n",
       "      <td>11.0</td>\n",
       "      <td>18.0</td>\n",
       "    </tr>\n",
       "    <tr>\n",
       "      <th>2</th>\n",
       "      <td>69.0</td>\n",
       "      <td>1</td>\n",
       "      <td>0.213980</td>\n",
       "      <td>1.31140</td>\n",
       "      <td>-0.32747</td>\n",
       "      <td>-0.234260</td>\n",
       "      <td>III</td>\n",
       "      <td>Infiltrating Ductal Carcinoma</td>\n",
       "      <td>Positive</td>\n",
       "      <td>Positive</td>\n",
       "      <td>Negative</td>\n",
       "      <td>Other</td>\n",
       "      <td>1.0</td>\n",
       "      <td>8.0</td>\n",
       "      <td>9.0</td>\n",
       "      <td>17.0</td>\n",
       "      <td>9.0</td>\n",
       "      <td>6.0</td>\n",
       "      <td>18.0</td>\n",
       "    </tr>\n",
       "    <tr>\n",
       "      <th>3</th>\n",
       "      <td>56.0</td>\n",
       "      <td>1</td>\n",
       "      <td>0.345090</td>\n",
       "      <td>-0.21147</td>\n",
       "      <td>-0.19304</td>\n",
       "      <td>0.124270</td>\n",
       "      <td>II</td>\n",
       "      <td>Infiltrating Ductal Carcinoma</td>\n",
       "      <td>Positive</td>\n",
       "      <td>Positive</td>\n",
       "      <td>Negative</td>\n",
       "      <td>Modified Radical Mastectomy</td>\n",
       "      <td>1.0</td>\n",
       "      <td>25.0</td>\n",
       "      <td>1.0</td>\n",
       "      <td>17.0</td>\n",
       "      <td>12.0</td>\n",
       "      <td>7.0</td>\n",
       "      <td>17.0</td>\n",
       "    </tr>\n",
       "    <tr>\n",
       "      <th>4</th>\n",
       "      <td>56.0</td>\n",
       "      <td>1</td>\n",
       "      <td>0.221550</td>\n",
       "      <td>1.90680</td>\n",
       "      <td>0.52045</td>\n",
       "      <td>-0.311990</td>\n",
       "      <td>II</td>\n",
       "      <td>Infiltrating Ductal Carcinoma</td>\n",
       "      <td>Positive</td>\n",
       "      <td>Positive</td>\n",
       "      <td>Negative</td>\n",
       "      <td>Other</td>\n",
       "      <td>0.0</td>\n",
       "      <td>6.0</td>\n",
       "      <td>5.0</td>\n",
       "      <td>17.0</td>\n",
       "      <td>27.0</td>\n",
       "      <td>6.0</td>\n",
       "      <td>19.0</td>\n",
       "    </tr>\n",
       "  </tbody>\n",
       "</table>\n",
       "</div>"
      ],
      "text/plain": [
       "    Age  Gender  Protein1  Protein2  Protein3  Protein4 Tumour_Stage  \\\n",
       "0  36.0       1  0.080353   0.42638   0.54715  0.273680          III   \n",
       "1  43.0       1 -0.420320   0.57807   0.61447 -0.031505           II   \n",
       "2  69.0       1  0.213980   1.31140  -0.32747 -0.234260          III   \n",
       "3  56.0       1  0.345090  -0.21147  -0.19304  0.124270           II   \n",
       "4  56.0       1  0.221550   1.90680   0.52045 -0.311990           II   \n",
       "\n",
       "                       Histology ER status PR status HER2 status  \\\n",
       "0  Infiltrating Ductal Carcinoma  Positive  Positive    Negative   \n",
       "1             Mucinous Carcinoma  Positive  Positive    Negative   \n",
       "2  Infiltrating Ductal Carcinoma  Positive  Positive    Negative   \n",
       "3  Infiltrating Ductal Carcinoma  Positive  Positive    Negative   \n",
       "4  Infiltrating Ductal Carcinoma  Positive  Positive    Negative   \n",
       "\n",
       "                  Surgery_type  Patient_Status  Day_of_Surgery  \\\n",
       "0  Modified Radical Mastectomy             1.0            15.0   \n",
       "1                   Lumpectomy             0.0            26.0   \n",
       "2                        Other             1.0             8.0   \n",
       "3  Modified Radical Mastectomy             1.0            25.0   \n",
       "4                        Other             0.0             6.0   \n",
       "\n",
       "   Month_of_Surgery  Year_of_Surgery  Day_of_Last_Visit  Month_of_Last_Visit  \\\n",
       "0               1.0             17.0               19.0                  6.0   \n",
       "1               4.0             17.0                9.0                 11.0   \n",
       "2               9.0             17.0                9.0                  6.0   \n",
       "3               1.0             17.0               12.0                  7.0   \n",
       "4               5.0             17.0               27.0                  6.0   \n",
       "\n",
       "   Year_of_Last_Visit  \n",
       "0                17.0  \n",
       "1                18.0  \n",
       "2                18.0  \n",
       "3                17.0  \n",
       "4                19.0  "
      ]
     },
     "execution_count": 42,
     "metadata": {},
     "output_type": "execute_result"
    }
   ],
   "source": [
    "# Check data again\n",
    "\n",
    "data.head()"
   ]
  },
  {
   "cell_type": "code",
   "execution_count": null,
   "id": "5b5a2aa2-8ecf-4220-bdd8-36e1064de525",
   "metadata": {},
   "outputs": [],
   "source": []
  },
  {
   "cell_type": "markdown",
   "id": "3991414c-cbec-4cf0-ac3b-683a0fa1ec05",
   "metadata": {},
   "source": [
    "We need to know more on column(data) we had it we searched on it ... ER&PR&HR will be:\n",
    "\n",
    "---**ER-positive (ER+): Cancers that have estrogen receptors (ER)**\n",
    "\n",
    "---**PR-positive (PR+): Cancers that have progesterone receptors (PR)**\n",
    "\n",
    "---**Hormone receptor-positive (HR+): Cancers that have one or both types of these receptors.**"
   ]
  },
  {
   "cell_type": "markdown",
   "id": "9f3bdb44-b621-49ea-bcf8-3f85a6cb81e0",
   "metadata": {},
   "source": [
    "**IF ER = + & PR = + & HR = - it refers to that MAYbe have Cancer or not**\n",
    "\n",
    "**but, if ER&PR&HR = + she have a cancer**"
   ]
  },
  {
   "cell_type": "code",
   "execution_count": 43,
   "id": "f0890170-2527-430e-87da-985df4e22d30",
   "metadata": {},
   "outputs": [
    {
     "data": {
      "text/plain": [
       "array(['Positive', nan], dtype=object)"
      ]
     },
     "execution_count": 43,
     "metadata": {},
     "output_type": "execute_result"
    }
   ],
   "source": [
    "# Get unique values to check if anyone have negative or positive\n",
    "\n",
    "data['ER status'].unique()"
   ]
  },
  {
   "cell_type": "code",
   "execution_count": 44,
   "id": "42c1bd8a-1544-4957-ba3c-b8886da05723",
   "metadata": {},
   "outputs": [],
   "source": [
    "# Replace it with numeric data\n",
    "\n",
    "data['ER status'].replace({'Positive':1},inplace = True)"
   ]
  },
  {
   "cell_type": "code",
   "execution_count": 45,
   "id": "75b52289-c884-4c20-a57a-2dcb1891bf13",
   "metadata": {},
   "outputs": [
    {
     "data": {
      "text/plain": [
       "array([ 1., nan])"
      ]
     },
     "execution_count": 45,
     "metadata": {},
     "output_type": "execute_result"
    }
   ],
   "source": [
    "# Check changed\n",
    "\n",
    "data['ER status'].unique()"
   ]
  },
  {
   "cell_type": "code",
   "execution_count": 46,
   "id": "8e07c5a3-fb7c-4eb1-9847-e24cbcbb20a5",
   "metadata": {},
   "outputs": [
    {
     "data": {
      "text/plain": [
       "array(['Positive', nan], dtype=object)"
      ]
     },
     "execution_count": 46,
     "metadata": {},
     "output_type": "execute_result"
    }
   ],
   "source": [
    "# Get unique values to check if anyone have negative or positive\n",
    "\n",
    "data['PR status'].unique()"
   ]
  },
  {
   "cell_type": "code",
   "execution_count": 47,
   "id": "5a81aeb9-070c-4818-a4c1-f0b75c84ce5f",
   "metadata": {},
   "outputs": [],
   "source": [
    "# Replace it with numeric data\n",
    "\n",
    "data['PR status'].replace({'Positive':1},inplace = True)"
   ]
  },
  {
   "cell_type": "code",
   "execution_count": 48,
   "id": "94b167e3-beaa-4158-a9ae-f158c0262f49",
   "metadata": {},
   "outputs": [
    {
     "data": {
      "text/plain": [
       "array([ 1., nan])"
      ]
     },
     "execution_count": 48,
     "metadata": {},
     "output_type": "execute_result"
    }
   ],
   "source": [
    "# Check changed\n",
    "\n",
    "data['PR status'].unique()"
   ]
  },
  {
   "cell_type": "code",
   "execution_count": 49,
   "id": "6fadddb0-7f67-421f-83c4-4d4eb8d84a1e",
   "metadata": {},
   "outputs": [
    {
     "data": {
      "text/plain": [
       "array(['Negative', 'Positive', nan], dtype=object)"
      ]
     },
     "execution_count": 49,
     "metadata": {},
     "output_type": "execute_result"
    }
   ],
   "source": [
    "# Get unique values to check if anyone have negative or positive\n",
    "\n",
    "data['HER2 status'].unique()"
   ]
  },
  {
   "cell_type": "code",
   "execution_count": 50,
   "id": "2a797c53-3995-419c-936e-a8c2bedae2cd",
   "metadata": {},
   "outputs": [],
   "source": [
    "# Replace it with numeric data\n",
    "\n",
    "data['HER2 status'].replace({'Positive':1,'Negative':0},inplace = True)"
   ]
  },
  {
   "cell_type": "code",
   "execution_count": 51,
   "id": "8fb1098c-3e8e-429b-8bfc-f4b532432ef0",
   "metadata": {},
   "outputs": [
    {
     "data": {
      "text/plain": [
       "array([ 0.,  1., nan])"
      ]
     },
     "execution_count": 51,
     "metadata": {},
     "output_type": "execute_result"
    }
   ],
   "source": [
    "# Check changed\n",
    "\n",
    "data['HER2 status'].unique()"
   ]
  },
  {
   "cell_type": "code",
   "execution_count": 52,
   "id": "208c38f1-0672-4191-affb-b230b9d4e441",
   "metadata": {},
   "outputs": [
    {
     "name": "stdout",
     "output_type": "stream",
     "text": [
      "<class 'pandas.core.frame.DataFrame'>\n",
      "RangeIndex: 341 entries, 0 to 340\n",
      "Data columns (total 19 columns):\n",
      " #   Column               Non-Null Count  Dtype  \n",
      "---  ------               --------------  -----  \n",
      " 0   Age                  341 non-null    float64\n",
      " 1   Gender               341 non-null    int64  \n",
      " 2   Protein1             334 non-null    float64\n",
      " 3   Protein2             334 non-null    float64\n",
      " 4   Protein3             334 non-null    float64\n",
      " 5   Protein4             334 non-null    float64\n",
      " 6   Tumour_Stage         334 non-null    object \n",
      " 7   Histology            334 non-null    object \n",
      " 8   ER status            334 non-null    float64\n",
      " 9   PR status            334 non-null    float64\n",
      " 10  HER2 status          334 non-null    float64\n",
      " 11  Surgery_type         334 non-null    object \n",
      " 12  Patient_Status       321 non-null    float64\n",
      " 13  Day_of_Surgery       334 non-null    float64\n",
      " 14  Month_of_Surgery     334 non-null    float64\n",
      " 15  Year_of_Surgery      334 non-null    float64\n",
      " 16  Day_of_Last_Visit    317 non-null    float64\n",
      " 17  Month_of_Last_Visit  317 non-null    float64\n",
      " 18  Year_of_Last_Visit   317 non-null    float64\n",
      "dtypes: float64(15), int64(1), object(3)\n",
      "memory usage: 50.7+ KB\n"
     ]
    }
   ],
   "source": [
    "# Check data\n",
    "\n",
    "data.info()"
   ]
  },
  {
   "cell_type": "code",
   "execution_count": 53,
   "id": "483fbf0d-3983-44f8-b417-bc924a9a6956",
   "metadata": {},
   "outputs": [
    {
     "data": {
      "text/html": [
       "<div>\n",
       "<style scoped>\n",
       "    .dataframe tbody tr th:only-of-type {\n",
       "        vertical-align: middle;\n",
       "    }\n",
       "\n",
       "    .dataframe tbody tr th {\n",
       "        vertical-align: top;\n",
       "    }\n",
       "\n",
       "    .dataframe thead th {\n",
       "        text-align: right;\n",
       "    }\n",
       "</style>\n",
       "<table border=\"1\" class=\"dataframe\">\n",
       "  <thead>\n",
       "    <tr style=\"text-align: right;\">\n",
       "      <th></th>\n",
       "      <th>Age</th>\n",
       "      <th>Gender</th>\n",
       "      <th>Protein1</th>\n",
       "      <th>Protein2</th>\n",
       "      <th>Protein3</th>\n",
       "      <th>Protein4</th>\n",
       "      <th>Tumour_Stage</th>\n",
       "      <th>Histology</th>\n",
       "      <th>ER status</th>\n",
       "      <th>PR status</th>\n",
       "      <th>HER2 status</th>\n",
       "      <th>Surgery_type</th>\n",
       "      <th>Patient_Status</th>\n",
       "      <th>Day_of_Surgery</th>\n",
       "      <th>Month_of_Surgery</th>\n",
       "      <th>Year_of_Surgery</th>\n",
       "      <th>Day_of_Last_Visit</th>\n",
       "      <th>Month_of_Last_Visit</th>\n",
       "      <th>Year_of_Last_Visit</th>\n",
       "    </tr>\n",
       "  </thead>\n",
       "  <tbody>\n",
       "    <tr>\n",
       "      <th>0</th>\n",
       "      <td>36.0</td>\n",
       "      <td>1</td>\n",
       "      <td>0.080353</td>\n",
       "      <td>0.42638</td>\n",
       "      <td>0.54715</td>\n",
       "      <td>0.273680</td>\n",
       "      <td>III</td>\n",
       "      <td>Infiltrating Ductal Carcinoma</td>\n",
       "      <td>1.0</td>\n",
       "      <td>1.0</td>\n",
       "      <td>0.0</td>\n",
       "      <td>Modified Radical Mastectomy</td>\n",
       "      <td>1.0</td>\n",
       "      <td>15.0</td>\n",
       "      <td>1.0</td>\n",
       "      <td>17.0</td>\n",
       "      <td>19.0</td>\n",
       "      <td>6.0</td>\n",
       "      <td>17.0</td>\n",
       "    </tr>\n",
       "    <tr>\n",
       "      <th>1</th>\n",
       "      <td>43.0</td>\n",
       "      <td>1</td>\n",
       "      <td>-0.420320</td>\n",
       "      <td>0.57807</td>\n",
       "      <td>0.61447</td>\n",
       "      <td>-0.031505</td>\n",
       "      <td>II</td>\n",
       "      <td>Mucinous Carcinoma</td>\n",
       "      <td>1.0</td>\n",
       "      <td>1.0</td>\n",
       "      <td>0.0</td>\n",
       "      <td>Lumpectomy</td>\n",
       "      <td>0.0</td>\n",
       "      <td>26.0</td>\n",
       "      <td>4.0</td>\n",
       "      <td>17.0</td>\n",
       "      <td>9.0</td>\n",
       "      <td>11.0</td>\n",
       "      <td>18.0</td>\n",
       "    </tr>\n",
       "    <tr>\n",
       "      <th>2</th>\n",
       "      <td>69.0</td>\n",
       "      <td>1</td>\n",
       "      <td>0.213980</td>\n",
       "      <td>1.31140</td>\n",
       "      <td>-0.32747</td>\n",
       "      <td>-0.234260</td>\n",
       "      <td>III</td>\n",
       "      <td>Infiltrating Ductal Carcinoma</td>\n",
       "      <td>1.0</td>\n",
       "      <td>1.0</td>\n",
       "      <td>0.0</td>\n",
       "      <td>Other</td>\n",
       "      <td>1.0</td>\n",
       "      <td>8.0</td>\n",
       "      <td>9.0</td>\n",
       "      <td>17.0</td>\n",
       "      <td>9.0</td>\n",
       "      <td>6.0</td>\n",
       "      <td>18.0</td>\n",
       "    </tr>\n",
       "    <tr>\n",
       "      <th>3</th>\n",
       "      <td>56.0</td>\n",
       "      <td>1</td>\n",
       "      <td>0.345090</td>\n",
       "      <td>-0.21147</td>\n",
       "      <td>-0.19304</td>\n",
       "      <td>0.124270</td>\n",
       "      <td>II</td>\n",
       "      <td>Infiltrating Ductal Carcinoma</td>\n",
       "      <td>1.0</td>\n",
       "      <td>1.0</td>\n",
       "      <td>0.0</td>\n",
       "      <td>Modified Radical Mastectomy</td>\n",
       "      <td>1.0</td>\n",
       "      <td>25.0</td>\n",
       "      <td>1.0</td>\n",
       "      <td>17.0</td>\n",
       "      <td>12.0</td>\n",
       "      <td>7.0</td>\n",
       "      <td>17.0</td>\n",
       "    </tr>\n",
       "    <tr>\n",
       "      <th>4</th>\n",
       "      <td>56.0</td>\n",
       "      <td>1</td>\n",
       "      <td>0.221550</td>\n",
       "      <td>1.90680</td>\n",
       "      <td>0.52045</td>\n",
       "      <td>-0.311990</td>\n",
       "      <td>II</td>\n",
       "      <td>Infiltrating Ductal Carcinoma</td>\n",
       "      <td>1.0</td>\n",
       "      <td>1.0</td>\n",
       "      <td>0.0</td>\n",
       "      <td>Other</td>\n",
       "      <td>0.0</td>\n",
       "      <td>6.0</td>\n",
       "      <td>5.0</td>\n",
       "      <td>17.0</td>\n",
       "      <td>27.0</td>\n",
       "      <td>6.0</td>\n",
       "      <td>19.0</td>\n",
       "    </tr>\n",
       "  </tbody>\n",
       "</table>\n",
       "</div>"
      ],
      "text/plain": [
       "    Age  Gender  Protein1  Protein2  Protein3  Protein4 Tumour_Stage  \\\n",
       "0  36.0       1  0.080353   0.42638   0.54715  0.273680          III   \n",
       "1  43.0       1 -0.420320   0.57807   0.61447 -0.031505           II   \n",
       "2  69.0       1  0.213980   1.31140  -0.32747 -0.234260          III   \n",
       "3  56.0       1  0.345090  -0.21147  -0.19304  0.124270           II   \n",
       "4  56.0       1  0.221550   1.90680   0.52045 -0.311990           II   \n",
       "\n",
       "                       Histology  ER status  PR status  HER2 status  \\\n",
       "0  Infiltrating Ductal Carcinoma        1.0        1.0          0.0   \n",
       "1             Mucinous Carcinoma        1.0        1.0          0.0   \n",
       "2  Infiltrating Ductal Carcinoma        1.0        1.0          0.0   \n",
       "3  Infiltrating Ductal Carcinoma        1.0        1.0          0.0   \n",
       "4  Infiltrating Ductal Carcinoma        1.0        1.0          0.0   \n",
       "\n",
       "                  Surgery_type  Patient_Status  Day_of_Surgery  \\\n",
       "0  Modified Radical Mastectomy             1.0            15.0   \n",
       "1                   Lumpectomy             0.0            26.0   \n",
       "2                        Other             1.0             8.0   \n",
       "3  Modified Radical Mastectomy             1.0            25.0   \n",
       "4                        Other             0.0             6.0   \n",
       "\n",
       "   Month_of_Surgery  Year_of_Surgery  Day_of_Last_Visit  Month_of_Last_Visit  \\\n",
       "0               1.0             17.0               19.0                  6.0   \n",
       "1               4.0             17.0                9.0                 11.0   \n",
       "2               9.0             17.0                9.0                  6.0   \n",
       "3               1.0             17.0               12.0                  7.0   \n",
       "4               5.0             17.0               27.0                  6.0   \n",
       "\n",
       "   Year_of_Last_Visit  \n",
       "0                17.0  \n",
       "1                18.0  \n",
       "2                18.0  \n",
       "3                17.0  \n",
       "4                19.0  "
      ]
     },
     "execution_count": 53,
     "metadata": {},
     "output_type": "execute_result"
    }
   ],
   "source": [
    "# Check data\n",
    "\n",
    "data.head()"
   ]
  },
  {
   "cell_type": "code",
   "execution_count": 54,
   "id": "825ed8da-b80e-4505-8c17-8158aaf19f94",
   "metadata": {},
   "outputs": [
    {
     "data": {
      "text/plain": [
       "array(['III', 'II', 'I', nan], dtype=object)"
      ]
     },
     "execution_count": 54,
     "metadata": {},
     "output_type": "execute_result"
    }
   ],
   "source": [
    "# Get unique values to check stage of cancer\n",
    "\n",
    "data['Tumour_Stage'].unique()"
   ]
  },
  {
   "cell_type": "code",
   "execution_count": 55,
   "id": "a41b61fe-a13e-4c27-bc1c-723cdd03ff2a",
   "metadata": {},
   "outputs": [],
   "source": [
    "## Replace it with numeric data\n",
    "\n",
    "data['Tumour_Stage'].replace({'III':3,'II':2,'I':1},inplace = True)"
   ]
  },
  {
   "cell_type": "code",
   "execution_count": 56,
   "id": "0590caf4-6544-403c-a99d-6adaa91de43f",
   "metadata": {},
   "outputs": [
    {
     "data": {
      "text/plain": [
       "array([ 3.,  2.,  1., nan])"
      ]
     },
     "execution_count": 56,
     "metadata": {},
     "output_type": "execute_result"
    }
   ],
   "source": [
    "# Check changed\n",
    "\n",
    "data['Tumour_Stage'].unique()"
   ]
  },
  {
   "cell_type": "code",
   "execution_count": 57,
   "id": "134a3d4c-d369-4ee7-a927-a2612b7e495c",
   "metadata": {},
   "outputs": [
    {
     "name": "stdout",
     "output_type": "stream",
     "text": [
      "<class 'pandas.core.frame.DataFrame'>\n",
      "RangeIndex: 341 entries, 0 to 340\n",
      "Data columns (total 19 columns):\n",
      " #   Column               Non-Null Count  Dtype  \n",
      "---  ------               --------------  -----  \n",
      " 0   Age                  341 non-null    float64\n",
      " 1   Gender               341 non-null    int64  \n",
      " 2   Protein1             334 non-null    float64\n",
      " 3   Protein2             334 non-null    float64\n",
      " 4   Protein3             334 non-null    float64\n",
      " 5   Protein4             334 non-null    float64\n",
      " 6   Tumour_Stage         334 non-null    float64\n",
      " 7   Histology            334 non-null    object \n",
      " 8   ER status            334 non-null    float64\n",
      " 9   PR status            334 non-null    float64\n",
      " 10  HER2 status          334 non-null    float64\n",
      " 11  Surgery_type         334 non-null    object \n",
      " 12  Patient_Status       321 non-null    float64\n",
      " 13  Day_of_Surgery       334 non-null    float64\n",
      " 14  Month_of_Surgery     334 non-null    float64\n",
      " 15  Year_of_Surgery      334 non-null    float64\n",
      " 16  Day_of_Last_Visit    317 non-null    float64\n",
      " 17  Month_of_Last_Visit  317 non-null    float64\n",
      " 18  Year_of_Last_Visit   317 non-null    float64\n",
      "dtypes: float64(16), int64(1), object(2)\n",
      "memory usage: 50.7+ KB\n"
     ]
    }
   ],
   "source": [
    "# Check data\n",
    "\n",
    "data.info()"
   ]
  },
  {
   "cell_type": "markdown",
   "id": "f40ff7b3-ca75-446e-896e-435266d071a6",
   "metadata": {},
   "source": [
    " "
   ]
  },
  {
   "cell_type": "markdown",
   "id": "c2509e20-ac1e-4dc8-ade4-c64c1d8a7cb9",
   "metadata": {
    "tags": []
   },
   "source": [
    "###### After looked on data we have only TWO columns have strings values (object dtype)(Surgerytype - Histology) so we need to solve it to be numeric values so we will get unique values\n",
    "###### if it many value we will use Encoder to Encode the data to numeric values give high value weight highest of rest of values"
   ]
  },
  {
   "cell_type": "markdown",
   "id": "3eb6094f-2b46-4837-ae7c-945e2c149fe9",
   "metadata": {},
   "source": [
    " "
   ]
  },
  {
   "cell_type": "code",
   "execution_count": 58,
   "id": "f26c0be0-38aa-43eb-b76a-488d5b76895d",
   "metadata": {},
   "outputs": [
    {
     "data": {
      "text/plain": [
       "array(['Modified Radical Mastectomy', 'Lumpectomy', 'Other',\n",
       "       'Simple Mastectomy', nan], dtype=object)"
      ]
     },
     "execution_count": 58,
     "metadata": {},
     "output_type": "execute_result"
    }
   ],
   "source": [
    "data['Surgery_type'].unique()"
   ]
  },
  {
   "cell_type": "code",
   "execution_count": 59,
   "id": "f09a8f00-8d18-4cef-abe4-aebd8a67844d",
   "metadata": {},
   "outputs": [
    {
     "data": {
      "text/plain": [
       "array([1, 0, 2, 3, 4])"
      ]
     },
     "execution_count": 59,
     "metadata": {},
     "output_type": "execute_result"
    }
   ],
   "source": [
    "# Import label encoder\n",
    "from sklearn import preprocessing\n",
    "  \n",
    "# label_encoder object knows how to understand word labels\n",
    "label_encoder = preprocessing.LabelEncoder()\n",
    "  \n",
    "# Encode labels in column 'Surgery_type'\n",
    "data['Surgery_type']= label_encoder.fit_transform(data['Surgery_type'])\n",
    "  \n",
    "data['Surgery_type'].unique()"
   ]
  },
  {
   "cell_type": "code",
   "execution_count": 60,
   "id": "2258e893-fcbd-403f-b01f-90a540538084",
   "metadata": {},
   "outputs": [
    {
     "data": {
      "text/plain": [
       "array(['Infiltrating Ductal Carcinoma', 'Mucinous Carcinoma',\n",
       "       'Infiltrating Lobular Carcinoma', nan], dtype=object)"
      ]
     },
     "execution_count": 60,
     "metadata": {},
     "output_type": "execute_result"
    }
   ],
   "source": [
    "data['Histology'].unique()"
   ]
  },
  {
   "cell_type": "code",
   "execution_count": 61,
   "id": "d828e042-e890-4894-9cc3-40d76bc08830",
   "metadata": {},
   "outputs": [
    {
     "data": {
      "text/plain": [
       "array([0, 2, 1, 3])"
      ]
     },
     "execution_count": 61,
     "metadata": {},
     "output_type": "execute_result"
    }
   ],
   "source": [
    "# Import label encoder\n",
    "from sklearn import preprocessing\n",
    "  \n",
    "# label_encoder object knows how to understand word labels\n",
    "label_encoder = preprocessing.LabelEncoder()\n",
    "  \n",
    "# Encode labels in column 'Histology'\n",
    "data['Histology']= label_encoder.fit_transform(data['Histology'])\n",
    "  \n",
    "data['Histology'].unique()"
   ]
  },
  {
   "cell_type": "code",
   "execution_count": 62,
   "id": "6c6ba7ee-0694-4efa-85f1-3159c3075472",
   "metadata": {},
   "outputs": [
    {
     "data": {
      "text/html": [
       "<div>\n",
       "<style scoped>\n",
       "    .dataframe tbody tr th:only-of-type {\n",
       "        vertical-align: middle;\n",
       "    }\n",
       "\n",
       "    .dataframe tbody tr th {\n",
       "        vertical-align: top;\n",
       "    }\n",
       "\n",
       "    .dataframe thead th {\n",
       "        text-align: right;\n",
       "    }\n",
       "</style>\n",
       "<table border=\"1\" class=\"dataframe\">\n",
       "  <thead>\n",
       "    <tr style=\"text-align: right;\">\n",
       "      <th></th>\n",
       "      <th>Age</th>\n",
       "      <th>Gender</th>\n",
       "      <th>Protein1</th>\n",
       "      <th>Protein2</th>\n",
       "      <th>Protein3</th>\n",
       "      <th>Protein4</th>\n",
       "      <th>Tumour_Stage</th>\n",
       "      <th>Histology</th>\n",
       "      <th>ER status</th>\n",
       "      <th>PR status</th>\n",
       "      <th>HER2 status</th>\n",
       "      <th>Surgery_type</th>\n",
       "      <th>Patient_Status</th>\n",
       "      <th>Day_of_Surgery</th>\n",
       "      <th>Month_of_Surgery</th>\n",
       "      <th>Year_of_Surgery</th>\n",
       "      <th>Day_of_Last_Visit</th>\n",
       "      <th>Month_of_Last_Visit</th>\n",
       "      <th>Year_of_Last_Visit</th>\n",
       "    </tr>\n",
       "  </thead>\n",
       "  <tbody>\n",
       "    <tr>\n",
       "      <th>0</th>\n",
       "      <td>36.0</td>\n",
       "      <td>1</td>\n",
       "      <td>0.080353</td>\n",
       "      <td>0.42638</td>\n",
       "      <td>0.54715</td>\n",
       "      <td>0.273680</td>\n",
       "      <td>3.0</td>\n",
       "      <td>0</td>\n",
       "      <td>1.0</td>\n",
       "      <td>1.0</td>\n",
       "      <td>0.0</td>\n",
       "      <td>1</td>\n",
       "      <td>1.0</td>\n",
       "      <td>15.0</td>\n",
       "      <td>1.0</td>\n",
       "      <td>17.0</td>\n",
       "      <td>19.0</td>\n",
       "      <td>6.0</td>\n",
       "      <td>17.0</td>\n",
       "    </tr>\n",
       "    <tr>\n",
       "      <th>1</th>\n",
       "      <td>43.0</td>\n",
       "      <td>1</td>\n",
       "      <td>-0.420320</td>\n",
       "      <td>0.57807</td>\n",
       "      <td>0.61447</td>\n",
       "      <td>-0.031505</td>\n",
       "      <td>2.0</td>\n",
       "      <td>2</td>\n",
       "      <td>1.0</td>\n",
       "      <td>1.0</td>\n",
       "      <td>0.0</td>\n",
       "      <td>0</td>\n",
       "      <td>0.0</td>\n",
       "      <td>26.0</td>\n",
       "      <td>4.0</td>\n",
       "      <td>17.0</td>\n",
       "      <td>9.0</td>\n",
       "      <td>11.0</td>\n",
       "      <td>18.0</td>\n",
       "    </tr>\n",
       "    <tr>\n",
       "      <th>2</th>\n",
       "      <td>69.0</td>\n",
       "      <td>1</td>\n",
       "      <td>0.213980</td>\n",
       "      <td>1.31140</td>\n",
       "      <td>-0.32747</td>\n",
       "      <td>-0.234260</td>\n",
       "      <td>3.0</td>\n",
       "      <td>0</td>\n",
       "      <td>1.0</td>\n",
       "      <td>1.0</td>\n",
       "      <td>0.0</td>\n",
       "      <td>2</td>\n",
       "      <td>1.0</td>\n",
       "      <td>8.0</td>\n",
       "      <td>9.0</td>\n",
       "      <td>17.0</td>\n",
       "      <td>9.0</td>\n",
       "      <td>6.0</td>\n",
       "      <td>18.0</td>\n",
       "    </tr>\n",
       "    <tr>\n",
       "      <th>3</th>\n",
       "      <td>56.0</td>\n",
       "      <td>1</td>\n",
       "      <td>0.345090</td>\n",
       "      <td>-0.21147</td>\n",
       "      <td>-0.19304</td>\n",
       "      <td>0.124270</td>\n",
       "      <td>2.0</td>\n",
       "      <td>0</td>\n",
       "      <td>1.0</td>\n",
       "      <td>1.0</td>\n",
       "      <td>0.0</td>\n",
       "      <td>1</td>\n",
       "      <td>1.0</td>\n",
       "      <td>25.0</td>\n",
       "      <td>1.0</td>\n",
       "      <td>17.0</td>\n",
       "      <td>12.0</td>\n",
       "      <td>7.0</td>\n",
       "      <td>17.0</td>\n",
       "    </tr>\n",
       "    <tr>\n",
       "      <th>4</th>\n",
       "      <td>56.0</td>\n",
       "      <td>1</td>\n",
       "      <td>0.221550</td>\n",
       "      <td>1.90680</td>\n",
       "      <td>0.52045</td>\n",
       "      <td>-0.311990</td>\n",
       "      <td>2.0</td>\n",
       "      <td>0</td>\n",
       "      <td>1.0</td>\n",
       "      <td>1.0</td>\n",
       "      <td>0.0</td>\n",
       "      <td>2</td>\n",
       "      <td>0.0</td>\n",
       "      <td>6.0</td>\n",
       "      <td>5.0</td>\n",
       "      <td>17.0</td>\n",
       "      <td>27.0</td>\n",
       "      <td>6.0</td>\n",
       "      <td>19.0</td>\n",
       "    </tr>\n",
       "  </tbody>\n",
       "</table>\n",
       "</div>"
      ],
      "text/plain": [
       "    Age  Gender  Protein1  Protein2  Protein3  Protein4  Tumour_Stage  \\\n",
       "0  36.0       1  0.080353   0.42638   0.54715  0.273680           3.0   \n",
       "1  43.0       1 -0.420320   0.57807   0.61447 -0.031505           2.0   \n",
       "2  69.0       1  0.213980   1.31140  -0.32747 -0.234260           3.0   \n",
       "3  56.0       1  0.345090  -0.21147  -0.19304  0.124270           2.0   \n",
       "4  56.0       1  0.221550   1.90680   0.52045 -0.311990           2.0   \n",
       "\n",
       "   Histology  ER status  PR status  HER2 status  Surgery_type  Patient_Status  \\\n",
       "0          0        1.0        1.0          0.0             1             1.0   \n",
       "1          2        1.0        1.0          0.0             0             0.0   \n",
       "2          0        1.0        1.0          0.0             2             1.0   \n",
       "3          0        1.0        1.0          0.0             1             1.0   \n",
       "4          0        1.0        1.0          0.0             2             0.0   \n",
       "\n",
       "   Day_of_Surgery  Month_of_Surgery  Year_of_Surgery  Day_of_Last_Visit  \\\n",
       "0            15.0               1.0             17.0               19.0   \n",
       "1            26.0               4.0             17.0                9.0   \n",
       "2             8.0               9.0             17.0                9.0   \n",
       "3            25.0               1.0             17.0               12.0   \n",
       "4             6.0               5.0             17.0               27.0   \n",
       "\n",
       "   Month_of_Last_Visit  Year_of_Last_Visit  \n",
       "0                  6.0                17.0  \n",
       "1                 11.0                18.0  \n",
       "2                  6.0                18.0  \n",
       "3                  7.0                17.0  \n",
       "4                  6.0                19.0  "
      ]
     },
     "execution_count": 62,
     "metadata": {},
     "output_type": "execute_result"
    }
   ],
   "source": [
    "data.head()"
   ]
  },
  {
   "cell_type": "code",
   "execution_count": 63,
   "id": "2af99ebb-2df1-474d-8fa5-f31ef8487871",
   "metadata": {},
   "outputs": [
    {
     "data": {
      "image/png": "[encoded data removed]",
      "text/plain": [
       "<Figure size 1440x1440 with 2 Axes>"
      ]
     },
     "metadata": {
      "needs_background": "light"
     },
     "output_type": "display_data"
    }
   ],
   "source": [
    "plt.figure(figsize=(20,20))\n",
    "sns.heatmap(data.corr(),annot=True)\n",
    "plt.show()"
   ]
  },
  {
   "cell_type": "markdown",
   "id": "a124f60f-0add-420a-9a42-2999f915e779",
   "metadata": {
    "tags": []
   },
   "source": [
    "###### We have Two column if fixed values so it will be useless in data so we can drop it"
   ]
  },
  {
   "cell_type": "markdown",
   "id": "f5f6f2cb-894d-4290-859b-3bd4b1fbe851",
   "metadata": {},
   "source": [
    " "
   ]
  },
  {
   "cell_type": "code",
   "execution_count": 64,
   "id": "47c168b8-92fe-4ec6-aa60-b275739c75e9",
   "metadata": {},
   "outputs": [],
   "source": [
    "# Fixed Columns we will drop it\n",
    "\n",
    "data.drop(columns =[\"ER status\"], inplace = True)\n",
    "data.drop(columns =[\"PR status\"], inplace = True)"
   ]
  },
  {
   "cell_type": "code",
   "execution_count": 65,
   "id": "ac90a12b-c864-49f3-8994-c485cfc78002",
   "metadata": {},
   "outputs": [
    {
     "data": {
      "image/png": "[encoded data removed]",
      "text/plain": [
       "<Figure size 1440x1440 with 2 Axes>"
      ]
     },
     "metadata": {
      "needs_background": "light"
     },
     "output_type": "display_data"
    }
   ],
   "source": [
    "plt.figure(figsize=(20,20))\n",
    "sns.heatmap(data.corr(),annot=True)\n",
    "plt.show()"
   ]
  },
  {
   "cell_type": "code",
   "execution_count": 66,
   "id": "5e4e271f-c629-433e-8824-85cdf0e12261",
   "metadata": {},
   "outputs": [
    {
     "name": "stdout",
     "output_type": "stream",
     "text": [
      "<class 'pandas.core.frame.DataFrame'>\n",
      "RangeIndex: 341 entries, 0 to 340\n",
      "Data columns (total 17 columns):\n",
      " #   Column               Non-Null Count  Dtype  \n",
      "---  ------               --------------  -----  \n",
      " 0   Age                  341 non-null    float64\n",
      " 1   Gender               341 non-null    int64  \n",
      " 2   Protein1             334 non-null    float64\n",
      " 3   Protein2             334 non-null    float64\n",
      " 4   Protein3             334 non-null    float64\n",
      " 5   Protein4             334 non-null    float64\n",
      " 6   Tumour_Stage         334 non-null    float64\n",
      " 7   Histology            341 non-null    int32  \n",
      " 8   HER2 status          334 non-null    float64\n",
      " 9   Surgery_type         341 non-null    int32  \n",
      " 10  Patient_Status       321 non-null    float64\n",
      " 11  Day_of_Surgery       334 non-null    float64\n",
      " 12  Month_of_Surgery     334 non-null    float64\n",
      " 13  Year_of_Surgery      334 non-null    float64\n",
      " 14  Day_of_Last_Visit    317 non-null    float64\n",
      " 15  Month_of_Last_Visit  317 non-null    float64\n",
      " 16  Year_of_Last_Visit   317 non-null    float64\n",
      "dtypes: float64(14), int32(2), int64(1)\n",
      "memory usage: 42.8 KB\n"
     ]
    }
   ],
   "source": [
    "# Check data if we have any object type\n",
    "\n",
    "data.info()"
   ]
  },
  {
   "cell_type": "code",
   "execution_count": 67,
   "id": "dc893427-ebc8-48e6-b63f-20190d45a031",
   "metadata": {},
   "outputs": [
    {
     "data": {
      "text/html": [
       "<div>\n",
       "<style scoped>\n",
       "    .dataframe tbody tr th:only-of-type {\n",
       "        vertical-align: middle;\n",
       "    }\n",
       "\n",
       "    .dataframe tbody tr th {\n",
       "        vertical-align: top;\n",
       "    }\n",
       "\n",
       "    .dataframe thead th {\n",
       "        text-align: right;\n",
       "    }\n",
       "</style>\n",
       "<table border=\"1\" class=\"dataframe\">\n",
       "  <thead>\n",
       "    <tr style=\"text-align: right;\">\n",
       "      <th></th>\n",
       "      <th>Age</th>\n",
       "      <th>Gender</th>\n",
       "      <th>Protein1</th>\n",
       "      <th>Protein2</th>\n",
       "      <th>Protein3</th>\n",
       "      <th>Protein4</th>\n",
       "      <th>Tumour_Stage</th>\n",
       "      <th>Histology</th>\n",
       "      <th>HER2 status</th>\n",
       "      <th>Surgery_type</th>\n",
       "      <th>Patient_Status</th>\n",
       "      <th>Day_of_Surgery</th>\n",
       "      <th>Month_of_Surgery</th>\n",
       "      <th>Year_of_Surgery</th>\n",
       "      <th>Day_of_Last_Visit</th>\n",
       "      <th>Month_of_Last_Visit</th>\n",
       "      <th>Year_of_Last_Visit</th>\n",
       "    </tr>\n",
       "  </thead>\n",
       "  <tbody>\n",
       "    <tr>\n",
       "      <th>0</th>\n",
       "      <td>36.0</td>\n",
       "      <td>1</td>\n",
       "      <td>0.080353</td>\n",
       "      <td>0.42638</td>\n",
       "      <td>0.54715</td>\n",
       "      <td>0.273680</td>\n",
       "      <td>3.0</td>\n",
       "      <td>0</td>\n",
       "      <td>0.0</td>\n",
       "      <td>1</td>\n",
       "      <td>1.0</td>\n",
       "      <td>15.0</td>\n",
       "      <td>1.0</td>\n",
       "      <td>17.0</td>\n",
       "      <td>19.0</td>\n",
       "      <td>6.0</td>\n",
       "      <td>17.0</td>\n",
       "    </tr>\n",
       "    <tr>\n",
       "      <th>1</th>\n",
       "      <td>43.0</td>\n",
       "      <td>1</td>\n",
       "      <td>-0.420320</td>\n",
       "      <td>0.57807</td>\n",
       "      <td>0.61447</td>\n",
       "      <td>-0.031505</td>\n",
       "      <td>2.0</td>\n",
       "      <td>2</td>\n",
       "      <td>0.0</td>\n",
       "      <td>0</td>\n",
       "      <td>0.0</td>\n",
       "      <td>26.0</td>\n",
       "      <td>4.0</td>\n",
       "      <td>17.0</td>\n",
       "      <td>9.0</td>\n",
       "      <td>11.0</td>\n",
       "      <td>18.0</td>\n",
       "    </tr>\n",
       "    <tr>\n",
       "      <th>2</th>\n",
       "      <td>69.0</td>\n",
       "      <td>1</td>\n",
       "      <td>0.213980</td>\n",
       "      <td>1.31140</td>\n",
       "      <td>-0.32747</td>\n",
       "      <td>-0.234260</td>\n",
       "      <td>3.0</td>\n",
       "      <td>0</td>\n",
       "      <td>0.0</td>\n",
       "      <td>2</td>\n",
       "      <td>1.0</td>\n",
       "      <td>8.0</td>\n",
       "      <td>9.0</td>\n",
       "      <td>17.0</td>\n",
       "      <td>9.0</td>\n",
       "      <td>6.0</td>\n",
       "      <td>18.0</td>\n",
       "    </tr>\n",
       "    <tr>\n",
       "      <th>3</th>\n",
       "      <td>56.0</td>\n",
       "      <td>1</td>\n",
       "      <td>0.345090</td>\n",
       "      <td>-0.21147</td>\n",
       "      <td>-0.19304</td>\n",
       "      <td>0.124270</td>\n",
       "      <td>2.0</td>\n",
       "      <td>0</td>\n",
       "      <td>0.0</td>\n",
       "      <td>1</td>\n",
       "      <td>1.0</td>\n",
       "      <td>25.0</td>\n",
       "      <td>1.0</td>\n",
       "      <td>17.0</td>\n",
       "      <td>12.0</td>\n",
       "      <td>7.0</td>\n",
       "      <td>17.0</td>\n",
       "    </tr>\n",
       "    <tr>\n",
       "      <th>4</th>\n",
       "      <td>56.0</td>\n",
       "      <td>1</td>\n",
       "      <td>0.221550</td>\n",
       "      <td>1.90680</td>\n",
       "      <td>0.52045</td>\n",
       "      <td>-0.311990</td>\n",
       "      <td>2.0</td>\n",
       "      <td>0</td>\n",
       "      <td>0.0</td>\n",
       "      <td>2</td>\n",
       "      <td>0.0</td>\n",
       "      <td>6.0</td>\n",
       "      <td>5.0</td>\n",
       "      <td>17.0</td>\n",
       "      <td>27.0</td>\n",
       "      <td>6.0</td>\n",
       "      <td>19.0</td>\n",
       "    </tr>\n",
       "  </tbody>\n",
       "</table>\n",
       "</div>"
      ],
      "text/plain": [
       "    Age  Gender  Protein1  Protein2  Protein3  Protein4  Tumour_Stage  \\\n",
       "0  36.0       1  0.080353   0.42638   0.54715  0.273680           3.0   \n",
       "1  43.0       1 -0.420320   0.57807   0.61447 -0.031505           2.0   \n",
       "2  69.0       1  0.213980   1.31140  -0.32747 -0.234260           3.0   \n",
       "3  56.0       1  0.345090  -0.21147  -0.19304  0.124270           2.0   \n",
       "4  56.0       1  0.221550   1.90680   0.52045 -0.311990           2.0   \n",
       "\n",
       "   Histology  HER2 status  Surgery_type  Patient_Status  Day_of_Surgery  \\\n",
       "0          0          0.0             1             1.0            15.0   \n",
       "1          2          0.0             0             0.0            26.0   \n",
       "2          0          0.0             2             1.0             8.0   \n",
       "3          0          0.0             1             1.0            25.0   \n",
       "4          0          0.0             2             0.0             6.0   \n",
       "\n",
       "   Month_of_Surgery  Year_of_Surgery  Day_of_Last_Visit  Month_of_Last_Visit  \\\n",
       "0               1.0             17.0               19.0                  6.0   \n",
       "1               4.0             17.0                9.0                 11.0   \n",
       "2               9.0             17.0                9.0                  6.0   \n",
       "3               1.0             17.0               12.0                  7.0   \n",
       "4               5.0             17.0               27.0                  6.0   \n",
       "\n",
       "   Year_of_Last_Visit  \n",
       "0                17.0  \n",
       "1                18.0  \n",
       "2                18.0  \n",
       "3                17.0  \n",
       "4                19.0  "
      ]
     },
     "execution_count": 67,
     "metadata": {},
     "output_type": "execute_result"
    }
   ],
   "source": [
    "# Show data\n",
    "\n",
    "data.head()"
   ]
  },
  {
   "cell_type": "code",
   "execution_count": 68,
   "id": "cb7d0c77-a8f8-4eec-a3d2-c3a96344fdc7",
   "metadata": {},
   "outputs": [
    {
     "data": {
      "text/plain": [
       "Age                     0\n",
       "Gender                  0\n",
       "Protein1                7\n",
       "Protein2                7\n",
       "Protein3                7\n",
       "Protein4                7\n",
       "Tumour_Stage            7\n",
       "Histology               0\n",
       "HER2 status             7\n",
       "Surgery_type            0\n",
       "Patient_Status         20\n",
       "Day_of_Surgery          7\n",
       "Month_of_Surgery        7\n",
       "Year_of_Surgery         7\n",
       "Day_of_Last_Visit      24\n",
       "Month_of_Last_Visit    24\n",
       "Year_of_Last_Visit     24\n",
       "dtype: int64"
      ]
     },
     "execution_count": 68,
     "metadata": {},
     "output_type": "execute_result"
    }
   ],
   "source": [
    "# Check the null cells\n",
    "\n",
    "data.isna().sum()"
   ]
  },
  {
   "cell_type": "markdown",
   "id": "44a41399-8b51-4758-a19f-9945fd13b2bd",
   "metadata": {},
   "source": [
    "**This Data is Medical one so, it more senstive to predict any null(empty) cells but it also not enough to fit model on it so we will get high error like (overfitting)**\n",
    "\n",
    "**First we will drop null(empty) cells and drop duplicated data if it few**\n",
    "\n",
    "**Second we can solve it by: Get more data (OR) Use model low in complexity**\n",
    "\n",
    "**So we can not get more data so we will low complexity model like linear regression**"
   ]
  },
  {
   "cell_type": "code",
   "execution_count": 69,
   "id": "48f809c2-832a-45c1-a8cb-ffe5a1dcc32b",
   "metadata": {},
   "outputs": [
    {
     "data": {
      "text/plain": [
       "6"
      ]
     },
     "execution_count": 69,
     "metadata": {},
     "output_type": "execute_result"
    }
   ],
   "source": [
    "# Get how many duplicated values\n",
    "\n",
    "data.duplicated().sum()"
   ]
  },
  {
   "cell_type": "code",
   "execution_count": 70,
   "id": "3f27a7eb-942c-4a38-ad30-416bfb8f87ab",
   "metadata": {},
   "outputs": [],
   "source": [
    "# Drop duplicated values\n",
    "\n",
    "data.drop_duplicates(inplace = True)"
   ]
  },
  {
   "cell_type": "code",
   "execution_count": 71,
   "id": "3bdd45a5-d95e-4f4e-8519-f722198fa3a0",
   "metadata": {},
   "outputs": [],
   "source": [
    "# Drop all null(empty) cells\n",
    "data.dropna(inplace = True)"
   ]
  },
  {
   "cell_type": "code",
   "execution_count": 72,
   "id": "bbd7fc24-4ad5-4554-bbba-eda81fb9d080",
   "metadata": {},
   "outputs": [
    {
     "data": {
      "text/plain": [
       "Age                    0\n",
       "Gender                 0\n",
       "Protein1               0\n",
       "Protein2               0\n",
       "Protein3               0\n",
       "Protein4               0\n",
       "Tumour_Stage           0\n",
       "Histology              0\n",
       "HER2 status            0\n",
       "Surgery_type           0\n",
       "Patient_Status         0\n",
       "Day_of_Surgery         0\n",
       "Month_of_Surgery       0\n",
       "Year_of_Surgery        0\n",
       "Day_of_Last_Visit      0\n",
       "Month_of_Last_Visit    0\n",
       "Year_of_Last_Visit     0\n",
       "dtype: int64"
      ]
     },
     "execution_count": 72,
     "metadata": {},
     "output_type": "execute_result"
    }
   ],
   "source": [
    "data.isna().sum()"
   ]
  },
  {
   "cell_type": "markdown",
   "id": "35328a88-c601-4883-9f51-f560a11699d6",
   "metadata": {},
   "source": [
    "# Modeling"
   ]
  },
  {
   "cell_type": "markdown",
   "id": "b93c9545-a3b7-4822-bda3-b1b3a1ea8eea",
   "metadata": {},
   "source": [
    "### Linear Regression model"
   ]
  },
  {
   "cell_type": "code",
   "execution_count": 73,
   "id": "7d93044b-6153-4385-b01b-064673613414",
   "metadata": {},
   "outputs": [
    {
     "data": {
      "text/html": [
       "<div>\n",
       "<style scoped>\n",
       "    .dataframe tbody tr th:only-of-type {\n",
       "        vertical-align: middle;\n",
       "    }\n",
       "\n",
       "    .dataframe tbody tr th {\n",
       "        vertical-align: top;\n",
       "    }\n",
       "\n",
       "    .dataframe thead th {\n",
       "        text-align: right;\n",
       "    }\n",
       "</style>\n",
       "<table border=\"1\" class=\"dataframe\">\n",
       "  <thead>\n",
       "    <tr style=\"text-align: right;\">\n",
       "      <th></th>\n",
       "      <th>Age</th>\n",
       "      <th>Gender</th>\n",
       "      <th>Protein1</th>\n",
       "      <th>Protein2</th>\n",
       "      <th>Protein3</th>\n",
       "      <th>Protein4</th>\n",
       "      <th>Tumour_Stage</th>\n",
       "      <th>Histology</th>\n",
       "      <th>HER2 status</th>\n",
       "      <th>Surgery_type</th>\n",
       "      <th>Patient_Status</th>\n",
       "      <th>Day_of_Surgery</th>\n",
       "      <th>Month_of_Surgery</th>\n",
       "      <th>Year_of_Surgery</th>\n",
       "      <th>Day_of_Last_Visit</th>\n",
       "      <th>Month_of_Last_Visit</th>\n",
       "      <th>Year_of_Last_Visit</th>\n",
       "    </tr>\n",
       "  </thead>\n",
       "  <tbody>\n",
       "    <tr>\n",
       "      <th>0</th>\n",
       "      <td>36.0</td>\n",
       "      <td>1</td>\n",
       "      <td>0.080353</td>\n",
       "      <td>0.42638</td>\n",
       "      <td>0.54715</td>\n",
       "      <td>0.273680</td>\n",
       "      <td>3.0</td>\n",
       "      <td>0</td>\n",
       "      <td>0.0</td>\n",
       "      <td>1</td>\n",
       "      <td>1.0</td>\n",
       "      <td>15.0</td>\n",
       "      <td>1.0</td>\n",
       "      <td>17.0</td>\n",
       "      <td>19.0</td>\n",
       "      <td>6.0</td>\n",
       "      <td>17.0</td>\n",
       "    </tr>\n",
       "    <tr>\n",
       "      <th>1</th>\n",
       "      <td>43.0</td>\n",
       "      <td>1</td>\n",
       "      <td>-0.420320</td>\n",
       "      <td>0.57807</td>\n",
       "      <td>0.61447</td>\n",
       "      <td>-0.031505</td>\n",
       "      <td>2.0</td>\n",
       "      <td>2</td>\n",
       "      <td>0.0</td>\n",
       "      <td>0</td>\n",
       "      <td>0.0</td>\n",
       "      <td>26.0</td>\n",
       "      <td>4.0</td>\n",
       "      <td>17.0</td>\n",
       "      <td>9.0</td>\n",
       "      <td>11.0</td>\n",
       "      <td>18.0</td>\n",
       "    </tr>\n",
       "    <tr>\n",
       "      <th>2</th>\n",
       "      <td>69.0</td>\n",
       "      <td>1</td>\n",
       "      <td>0.213980</td>\n",
       "      <td>1.31140</td>\n",
       "      <td>-0.32747</td>\n",
       "      <td>-0.234260</td>\n",
       "      <td>3.0</td>\n",
       "      <td>0</td>\n",
       "      <td>0.0</td>\n",
       "      <td>2</td>\n",
       "      <td>1.0</td>\n",
       "      <td>8.0</td>\n",
       "      <td>9.0</td>\n",
       "      <td>17.0</td>\n",
       "      <td>9.0</td>\n",
       "      <td>6.0</td>\n",
       "      <td>18.0</td>\n",
       "    </tr>\n",
       "    <tr>\n",
       "      <th>3</th>\n",
       "      <td>56.0</td>\n",
       "      <td>1</td>\n",
       "      <td>0.345090</td>\n",
       "      <td>-0.21147</td>\n",
       "      <td>-0.19304</td>\n",
       "      <td>0.124270</td>\n",
       "      <td>2.0</td>\n",
       "      <td>0</td>\n",
       "      <td>0.0</td>\n",
       "      <td>1</td>\n",
       "      <td>1.0</td>\n",
       "      <td>25.0</td>\n",
       "      <td>1.0</td>\n",
       "      <td>17.0</td>\n",
       "      <td>12.0</td>\n",
       "      <td>7.0</td>\n",
       "      <td>17.0</td>\n",
       "    </tr>\n",
       "    <tr>\n",
       "      <th>4</th>\n",
       "      <td>56.0</td>\n",
       "      <td>1</td>\n",
       "      <td>0.221550</td>\n",
       "      <td>1.90680</td>\n",
       "      <td>0.52045</td>\n",
       "      <td>-0.311990</td>\n",
       "      <td>2.0</td>\n",
       "      <td>0</td>\n",
       "      <td>0.0</td>\n",
       "      <td>2</td>\n",
       "      <td>0.0</td>\n",
       "      <td>6.0</td>\n",
       "      <td>5.0</td>\n",
       "      <td>17.0</td>\n",
       "      <td>27.0</td>\n",
       "      <td>6.0</td>\n",
       "      <td>19.0</td>\n",
       "    </tr>\n",
       "  </tbody>\n",
       "</table>\n",
       "</div>"
      ],
      "text/plain": [
       "    Age  Gender  Protein1  Protein2  Protein3  Protein4  Tumour_Stage  \\\n",
       "0  36.0       1  0.080353   0.42638   0.54715  0.273680           3.0   \n",
       "1  43.0       1 -0.420320   0.57807   0.61447 -0.031505           2.0   \n",
       "2  69.0       1  0.213980   1.31140  -0.32747 -0.234260           3.0   \n",
       "3  56.0       1  0.345090  -0.21147  -0.19304  0.124270           2.0   \n",
       "4  56.0       1  0.221550   1.90680   0.52045 -0.311990           2.0   \n",
       "\n",
       "   Histology  HER2 status  Surgery_type  Patient_Status  Day_of_Surgery  \\\n",
       "0          0          0.0             1             1.0            15.0   \n",
       "1          2          0.0             0             0.0            26.0   \n",
       "2          0          0.0             2             1.0             8.0   \n",
       "3          0          0.0             1             1.0            25.0   \n",
       "4          0          0.0             2             0.0             6.0   \n",
       "\n",
       "   Month_of_Surgery  Year_of_Surgery  Day_of_Last_Visit  Month_of_Last_Visit  \\\n",
       "0               1.0             17.0               19.0                  6.0   \n",
       "1               4.0             17.0                9.0                 11.0   \n",
       "2               9.0             17.0                9.0                  6.0   \n",
       "3               1.0             17.0               12.0                  7.0   \n",
       "4               5.0             17.0               27.0                  6.0   \n",
       "\n",
       "   Year_of_Last_Visit  \n",
       "0                17.0  \n",
       "1                18.0  \n",
       "2                18.0  \n",
       "3                17.0  \n",
       "4                19.0  "
      ]
     },
     "execution_count": 73,
     "metadata": {},
     "output_type": "execute_result"
    }
   ],
   "source": [
    "data.head()"
   ]
  },
  {
   "cell_type": "code",
   "execution_count": 74,
   "id": "1d8d5717-2d18-4c17-9017-d27dd37413f6",
   "metadata": {},
   "outputs": [],
   "source": [
    "from sklearn.model_selection import train_test_split\n",
    "\n",
    "x = data.loc[:,data.columns != 'Patient_Status'].values\n",
    "y = data.loc[:,'Patient_Status'].values\n",
    "\n",
    "\n",
    "train_x,test_x,train_y,test_y = train_test_split(x,y,test_size = 0.3)"
   ]
  },
  {
   "cell_type": "code",
   "execution_count": 75,
   "id": "1ab86bcc-c4b6-412c-a708-524dd04d7049",
   "metadata": {},
   "outputs": [],
   "source": [
    "from sklearn.preprocessing import StandardScaler\n",
    "sd=StandardScaler()\n",
    "train_x=sd.fit_transform(train_x)\n",
    "test_x=sd.transform(test_x)"
   ]
  },
  {
   "cell_type": "code",
   "execution_count": 76,
   "id": "657bd70d-9f47-4a68-b4bd-21dde9409845",
   "metadata": {},
   "outputs": [],
   "source": [
    "from sklearn.linear_model import LinearRegression\n",
    "model=LinearRegression()"
   ]
  },
  {
   "cell_type": "code",
   "execution_count": 77,
   "id": "74e2df71-49ec-4407-ba90-e24513375e1a",
   "metadata": {},
   "outputs": [
    {
     "data": {
      "text/plain": [
       "LinearRegression()"
      ]
     },
     "execution_count": 77,
     "metadata": {},
     "output_type": "execute_result"
    }
   ],
   "source": [
    "model.fit(train_x,train_y)"
   ]
  },
  {
   "cell_type": "code",
   "execution_count": 78,
   "id": "0f2954b7-cb9f-424e-8155-c49ce7306f0b",
   "metadata": {},
   "outputs": [],
   "source": [
    "y_pred=model.predict(test_x)"
   ]
  },
  {
   "cell_type": "code",
   "execution_count": 79,
   "id": "8ea803fa-0e12-4dbc-9547-c3c1f5ec06dc",
   "metadata": {},
   "outputs": [
    {
     "name": "stdout",
     "output_type": "stream",
     "text": [
      "MSE :  0.2033940566016509\n",
      "r2-score :  -20.289290417977366\n"
     ]
    }
   ],
   "source": [
    "from sklearn.metrics import mean_squared_error,r2_score\n",
    "print(\"MSE : \",mean_squared_error(y_pred,test_y))\n",
    "print(\"r2-score : \",r2_score(y_pred,test_y))"
   ]
  },
  {
   "cell_type": "markdown",
   "id": "f9229cab-5033-4a88-947d-8873ea0e0a57",
   "metadata": {},
   "source": [
    " "
   ]
  },
  {
   "cell_type": "markdown",
   "id": "afbb0ed1-b166-4bc8-bb51-70c6b0bbc523",
   "metadata": {},
   "source": [
    "### Classification Model"
   ]
  },
  {
   "cell_type": "code",
   "execution_count": null,
   "id": "8972b121-9fe4-44e8-8dd7-4a0151f569a0",
   "metadata": {},
   "outputs": [],
   "source": [
    "y_pred = model.predict(test_x)"
   ]
  },
  {
   "cell_type": "code",
   "execution_count": null,
   "id": "0156dd4c-4b8e-4552-ab1a-9a83aa05399c",
   "metadata": {},
   "outputs": [],
   "source": [
    "# evaluate\n",
    "\n",
    "from sklearn.metrics import confusion_matrix\n",
    "print(confusion_matrix(y_pred,test_y))"
   ]
  },
  {
   "cell_type": "code",
   "execution_count": null,
   "id": "a35d3f63-9806-4790-97a6-9522df76e75b",
   "metadata": {},
   "outputs": [],
   "source": [
    "from sklearn.metrics import recall_score, precision_score,accuracy_score,f1_score\n",
    "print('Acc.     = ',accuracy_score(test_y,y_pred))\n",
    "print('Recall   = ',recall_score(test_y,y_pred))\n",
    "print('prec.    = ',precision_score(test_y,y_pred))\n",
    "print('F1_score = ',f1_score(test_y,y_pred))"
   ]
  },
  {
   "cell_type": "code",
   "execution_count": null,
   "id": "8874d62a-2915-4de8-b7b9-f77a70f6260e",
   "metadata": {},
   "outputs": [],
   "source": [
    "y_pred = model.predict(train_x)"
   ]
  },
  {
   "cell_type": "code",
   "execution_count": null,
   "id": "eeaddc25-f6fd-49f2-98f5-c9619478692f",
   "metadata": {},
   "outputs": [],
   "source": [
    "from sklearn.metrics import recall_score, precision_score,accuracy_score,f1_score\n",
    "print('Acc.     = ',accuracy_score(train_y,y_pred))\n",
    "print('Recall   = ',recall_score(train_y,y_pred))\n",
    "print('prec.    = ',precision_score(train_y,y_pred))\n",
    "print('F1_score = ',f1_score(train_y,y_pred))"
   ]
  }
 ],
 "metadata": {
  "kernelspec": {
   "display_name": "Python 3 (ipykernel)",
   "language": "python",
   "name": "python3"
  },
  "language_info": {
   "codemirror_mode": {
    "name": "ipython",
    "version": 3
   },
   "file_extension": ".py",
   "mimetype": "text/x-python",
   "name": "python",
   "nbconvert_exporter": "python",
   "pygments_lexer": "ipython3",
   "version": "3.9.12"
  }
 },
 "nbformat": 4,
 "nbformat_minor": 5
}
